{
 "cells": [
  {
   "cell_type": "markdown",
   "id": "e05918c3",
   "metadata": {},
   "source": [
    "(resonance_numerics)=\n",
    "# FEM for resonance problems\n",
    "\n",
    "[download as jupyter notebook](https://markuswess.github.io/waves/_sources/second_numerics/resonance.ipynb)\n",
    "\n",
    "Our goal is to solve the Neumann Helmholtz resonance problem on a bounded domain $\\Omega$ find $u\\in H^1,\\omega^2\\in \\mathbb R$ such that\n",
    "\n",
    "```{math}\n",
    "\\begin{aligned}\n",
    "\\omega^2 u &=-\\Delta u,&\\text{in }\\Omega.\n",
    "\\nabla u\\cdot n &= 0&\\text{on }\\partial\\Omega\n",
    "\\end{aligned}\n",
    "```\n",
    "\n",
    "For a discrete (finite element) space $V$ the weak discrete formulation is to find $u_h\\in V$, $\\omega^2>0$\n",
    "```{math}\n",
    "\\begin{aligned}\n",
    "\\omega^2\\int_{\\Omega} u_hu'_h &=\\int_{\\Omega}\\nabla u_h\\cdot\\nabla u'_h,&\\text{in }\\Omega.\n",
    "\\end{aligned}\n",
    "```\n",
    "for all $u_h'\\in V$.\n",
    "By expanding the solution $u_h$ into a suitable basis we obtain the linear (in $\\omega^2$) generalized matrix eigenvalue problem\n",
    "\n",
    "```{math}\n",
    "\\omega^2\\mathbf M \\mathbf u = \\mathbf S\\mathbf u\n",
    "```\n",
    "In `NGSolve` we assemble the matrices as usual:"
   ]
  },
  {
   "cell_type": "code",
   "execution_count": null,
   "id": "25bae531",
   "metadata": {},
   "outputs": [],
   "source": [
    "from ngsolve import *\n",
    "from ngsolve.webgui import Draw\n",
    "from netgen.occ import *\n",
    "\n",
    "geo = OCCGeometry(unit_square.shape, dim = 2) \n",
    "mesh = Mesh(geo.GenerateMesh(maxh = 0.1))\n",
    "\n",
    "V = H1(mesh,order = 3)\n",
    "\n",
    "u,v = V.TnT()\n",
    "S = BilinearForm(grad(u)*grad(v)*dx).Assemble()\n",
    "M = BilinearForm(u*v*dx).Assemble()"
   ]
  },
  {
   "cell_type": "markdown",
   "id": "3158e10b",
   "metadata": {},
   "source": [
    "We may solve the matrix eigenvalue problem using standard libraries from `numpy` or `scipy`:"
   ]
  },
  {
   "cell_type": "code",
   "execution_count": null,
   "id": "cd767fe3",
   "metadata": {},
   "outputs": [],
   "source": [
    "import scipy as sp\n",
    "lam,vecs = sp.linalg.eigh(S.mat.ToDense(),M.mat.ToDense())\n",
    "print(lam[:10]/sp.pi**2)"
   ]
  },
  {
   "cell_type": "markdown",
   "id": "22a7670b",
   "metadata": {},
   "source": [
    "Lastly we draw the resulting eigenfunctions"
   ]
  },
  {
   "cell_type": "code",
   "execution_count": null,
   "id": "1e9fbe3a",
   "metadata": {},
   "outputs": [],
   "source": [
    "gfu = GridFunction(V)\n",
    "for i in range(1,5):\n",
    "  gfu.vec[:] = vecs[:,i]\n",
    "  Draw(gfu);"
   ]
  }
 ],
 "metadata": {
  "jupytext": {
   "text_representation": {
    "extension": ".md",
    "format_name": "myst"
   }
  },
  "kernelspec": {
   "display_name": "Python 3",
   "language": "python",
   "name": "python3"
  },
  "source_map": [
   10,
   40,
   53,
   57,
   61,
   65
  ]
 },
 "nbformat": 4,
 "nbformat_minor": 5
}