{
 "cells": [
  {
   "cell_type": "markdown",
   "id": "922019e4",
   "metadata": {},
   "source": [
    "(scattering_numerics)=\n",
    "# FEM for scattering problems\n",
    "\n",
    "[download as jupyter notebook](https://markuswess.github.io/waves/_sources/second_numerics/helmholtz.ipynb)\n",
    "\n",
    "For a bounded domain $\\Omega\\subset\\mathbb R^2$ we want to approximate the solution of the Helmholtz problem\n",
    "\n",
    "````{card}\n",
    "```{math}\n",
    ":label: helmholtz_bounded\n",
    "\\begin{aligned}\n",
    "-k^2 u-\\Delta u &= 0,&\\text{in }\\Omega,\\\\\n",
    "u &= u_D,&\\text{on } \\Gamma_D,\\\\\n",
    "\\nabla u\\cdot n &= u_N,&\\text{on } \\Gamma_N,\n",
    "\\end{aligned}\n",
    "```\n",
    "````\n",
    "where this time we prescribe Dirichlet boundary conditions on a part of the boundary $\\Gamma_D\\subset\\partial\\Omega$ and Neumann boundary conditions on another part $\\Gamma_N\\subset\\partial\\Omega,\\Gamma_N\\cap\\Gamma_D=\\emptyset$\n",
    "\n",
    "\n",
    "We choose $\\Omega = [0,1]\\times[0,1]$ and $\\Gamma_N=\\{0\\}\\times[0,1]\\cup [0,1]\\times\\{0\\}$. and set $u_0=\\exp(-20(y-1/3)^2)$ and neglect the Dirichlet boundary conditions for a start, i.e., $\\Gamma_D = \\emptyset$.\n",
    "\n",
    "Similar to the time-domain problems we generate the geometry, the mesh and the discrete space $V$."
   ]
  },
  {
   "cell_type": "code",
   "execution_count": null,
   "id": "149bdab4",
   "metadata": {},
   "outputs": [],
   "source": [
    "from ngsolve import *\n",
    "from ngsolve.webgui import Draw\n",
    "from netgen.occ import *\n",
    "\n",
    "geo = OCCGeometry(unit_square.shape, dim = 2) \n",
    "mesh = Mesh(geo.GenerateMesh(maxh = 0.05))\n",
    "Draw(mesh);\n",
    "V = H1(mesh,order = 4, complex = True)"
   ]
  },
  {
   "cell_type": "markdown",
   "id": "56f24aff",
   "metadata": {},
   "source": [
    "Note that, since we approximate a complex solution, we have to add the flag `complex = True`. Thus the vector of a `GridFunction` has complex entries (stored as tuples):"
   ]
  },
  {
   "cell_type": "code",
   "execution_count": null,
   "id": "b522c603",
   "metadata": {
    "tags": [
     "scroll-output"
    ]
   },
   "outputs": [],
   "source": [
    "gfu = GridFunction(V)\n",
    "\n",
    "print(gfu.vec)"
   ]
  },
  {
   "cell_type": "markdown",
   "id": "f2312e62",
   "metadata": {},
   "source": [
    "As in {numref}`mol` and {numref}`basic_fe_wave` we derive the (discrete weak formulation by multiplication by test functions and partial integration to obtain\n",
    "\n",
    "```{math}\n",
    ":label: weak_semidisc_hh\n",
    "\\begin{aligned}\n",
    "-k^2\\int_\\Omega u_hu_h'+\\int_\\Omega\\nabla u_h\\cdot\\nabla u'_h&=\\int_{\\Gamma_N} u_{h,N} u_h',\n",
    "\\end{aligned}\n",
    "```\n",
    "for all $u_h'\\in V$\n",
    "where $u_{h,N}\\in V$ is an approximation of $u_N$.\n",
    "We assemble the matrices choosing $u_N=\\exp(-20(x^2+y^2))\\exp(20\\pi(x+y))$ and solve the problem"
   ]
  },
  {
   "cell_type": "code",
   "execution_count": null,
   "id": "c10abbf2",
   "metadata": {},
   "outputs": [],
   "source": [
    "u,v = V.TnT()\n",
    "k = 15\n",
    "\n",
    "a = BilinearForm(V)\n",
    "a += (grad(u)*grad(v)-k**2*u*v)*dx\n",
    "a.Assemble()\n",
    "\n",
    "u_N = exp(-20*(x**2+y**2))\n",
    "f = LinearForm(u_N*v*ds).Assemble()\n",
    "\n",
    "gfu = GridFunction(V)\n",
    "gfu.vec.data = a.mat.Inverse() * f.vec\n",
    "\n",
    "# draw the solution\n",
    "Draw (gfu, mesh, deformation=True);\n",
    "# draw the gradient\n",
    "Draw (grad(gfu).real, mesh, vectors = True);"
   ]
  },
  {
   "cell_type": "markdown",
   "id": "23dae7d1",
   "metadata": {},
   "source": [
    "Note that by default the real part of the scalar function is drawn, for the vectorial function we have to add `.real` to draw the vectors.\n",
    "\n",
    "## Essential boundary conditions\n",
    "Implementing dirichlet Boundary conditions works a little differently.\n",
    "\n",
    "They are called *essential boundary conditions*: We have to set the solution field to the given Dirichlet values, and restrict the test-functions to 0 on the Dirichlet boundary:\n",
    "\n",
    "$$\n",
    "\\text{find } u \\in H^1, u = u_D \\text{ on } \\Gamma_D \\text{ s.t. } A(u,v) = f(v) \\quad \\forall \\, v \\in H^1, v = 0 \\text{ on } \\Gamma_D\n",
    "$$\n",
    "where $A(u,v)$ is the bilinear form from the weak formulation.\n",
    "\n",
    "We split the solution vector into two parts: The given coefficients on the Dirichlet boundary, and all other including internal coefficients and coefficients on the natural boundaries:\n",
    "\n",
    "$$\n",
    "u = \\left( \\begin{array}{c} u_D \\\\ u_f \\end{array} \\right)\n",
    "$$\n",
    "\n",
    "(f like free). Accordingly, the matrix and the right hand side are split as\n",
    "\n",
    "$$\n",
    "A = \\left( \\begin{array}{cc} A_{DD} & A_{Df} \\\\ A_{fD} & A_{ff} \\end{array} \\right)\n",
    "\\qquad\n",
    "f = \\left( \\begin{array}{c} f_D \\\\ f_f \\end{array} \\right)\n",
    "$$\n",
    "\n",
    "The test functions are reduced to the free nodes. Thus, the equations to solve are\n",
    "\n",
    "$$\n",
    "A_{fD} u_D + A_{ff} u_f = f_f\n",
    "$$\n",
    "\n",
    "The given $u_D$ is moved to the right hand side, and thus\n",
    "\n",
    "$$\n",
    "u_f = {A_{ff}}^{-1} (f_f - A_{fD} u_D).\n",
    "$$\n",
    "\n",
    "It is convenient to assemble the complete matrix, invert a part of the matrix, end extend by zero:\n",
    "\n",
    "$$\n",
    "A^{-1,ff} := \n",
    "\\left( \\begin{array}{cc} 0 & 0 \\\\ 0 & A_{ff}^{-1} \\end{array} \\right)\n",
    "$$\n",
    "\n",
    "\n",
    "The case of homogeneous Dirichlet boundary condtions $u_D = 0$ is simple: We just say\n",
    "\n",
    "$$\n",
    "u = A^{-1,ff} f\n",
    "$$\n",
    "In NGSolve, the finite element space maintains a BitArray marking the free degrees of freedom. It is used to invert the sub-matrix:"
   ]
  },
  {
   "cell_type": "code",
   "execution_count": null,
   "id": "4af009bd",
   "metadata": {},
   "outputs": [],
   "source": [
    "V = H1(mesh, dirichlet=\"top|right\", order = 5)\n",
    "u,v = V.TnT()\n",
    "\n",
    "a = BilinearForm((grad(u)*grad(v)-k**2*u*v)*dx).Assemble()\n",
    "f = LinearForm(u_N*v*ds).Assemble()\n",
    "\n",
    "gfu = GridFunction(V)\n",
    "gfu.vec.data = a.mat.Inverse(V.FreeDofs()) * f.vec\n",
    "Draw (gfu, mesh, deformation=True);"
   ]
  },
  {
   "cell_type": "markdown",
   "id": "bc77cec7",
   "metadata": {},
   "source": [
    "Non-homogeneous Dirichlet b.c. are reduced to homogeneous once as follows: Choose some function $\\widetilde u$ such that \n",
    "\n",
    "$$\n",
    "\\widetilde u = u_D \\quad \\text{on } \\Gamma_D\n",
    "$$\n",
    "\n",
    "and set $u = \\widetilde u + w$. So we have to find a correction $w$ with $w = 0$ on $\\Gamma_D$ and\n",
    "\n",
    "$$\n",
    "A(w,v) = f(v) - A(\\widetilde u , v) \\qquad \\forall \\, v \\text{ with }  v = 0 \\text{ on } \\Gamma_D\n",
    "$$\n",
    "\n",
    "In matrix notation, the correction $w$ is\n",
    "\n",
    "$$\n",
    "w = A^{-1,ff} (f - A \\tilde u)\n",
    "$$\n",
    "\n",
    "Now we set the Dirichlet boundary values and don't worry about the rest. The Set - function of a GridFunction does some kind of interpolation."
   ]
  },
  {
   "cell_type": "code",
   "execution_count": null,
   "id": "4b250326",
   "metadata": {},
   "outputs": [],
   "source": [
    "uD = 0.1*exp(-20*((x-1)**2+(y-3/4)**2))\n",
    "gfu.Set (uD, definedon=mesh.Boundaries(\"top|right\"))\n",
    "Draw(gfu);"
   ]
  },
  {
   "cell_type": "markdown",
   "id": "7f295c40",
   "metadata": {},
   "source": [
    "Now we compute the correction"
   ]
  },
  {
   "cell_type": "code",
   "execution_count": null,
   "id": "e1a58c56",
   "metadata": {},
   "outputs": [],
   "source": [
    "r = f.vec - a.mat * gfu.vec\n",
    "gfu.vec.data += a.mat.Inverse(V.FreeDofs()) * r\n",
    "\n",
    "Draw(gfu, mesh, deformation = True);\n",
    "Draw (grad(gfu).real, mesh, vectors = True);"
   ]
  }
 ],
 "metadata": {
  "jupytext": {
   "text_representation": {
    "extension": ".md",
    "format_name": "myst"
   }
  },
  "kernelspec": {
   "display_name": "Python 3",
   "language": "python",
   "name": "python3"
  },
  "source_map": [
   10,
   36,
   46,
   50,
   55,
   67,
   85,
   140,
   150,
   171,
   175,
   178
  ]
 },
 "nbformat": 4,
 "nbformat_minor": 5
}