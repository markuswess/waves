{
 "cells": [
  {
   "cell_type": "code",
   "execution_count": 1,
   "id": "3d202371",
   "metadata": {},
   "outputs": [
    {
     "data": {
      "application/vnd.jupyter.widget-view+json": {
       "model_id": "0e69853361e2433994d5db90d4a72a9d",
       "version_major": 2,
       "version_minor": 0
      },
      "text/plain": [
       "WebGuiWidget(value={'ngsolve_version': 'Netgen x.x', 'mesh_dim': 3, 'mesh_center': [1.1102230246251565e-16, 2.…"
      ]
     },
     "metadata": {},
     "output_type": "display_data"
    },
    {
     "name": "stdout",
     "output_type": "stream",
     "text": [
      "('outer', 'outer', 'outer', 'outer', 'inner', 'inner', 'inner', 'inner', 'inner', 'inner', 'inner', 'inner', 'inner', 'inner', 'inner', 'inner')\n"
     ]
    }
   ],
   "source": [
    "from ngsolve import *\n",
    "from ngsolve.webgui import Draw\n",
    "from netgen.occ import *\n",
    "\n",
    "d = 0.1\n",
    "\n",
    "\n",
    "bigrect = MoveTo(-1.5,-1.5).Rectangle(3,3).Face()\n",
    "rect = MoveTo(-1/2,-1/2).Rectangle(1,1).Face()\n",
    "smallrect = MoveTo(-1/2+d,-1/2+d).Rectangle(1-2*d,1-2*d).Face()\n",
    "hole = MoveTo(1/2-2*d,-d).Rectangle(3*d,2*d).Face()\n",
    "bigrect.edges.name = \"outer\"\n",
    "\n",
    "innerrect = rect-smallrect-hole\n",
    "innerrect.edges.name = \"inner\"\n",
    "\n",
    "shape = bigrect-innerrect\n",
    "\n",
    "Draw(shape)\n",
    "\n",
    "mesh = Mesh(OCCGeometry(shape,dim=2).GenerateMesh(maxh=0.1))\n",
    "print(mesh.GetBoundaries())"
   ]
  },
  {
   "cell_type": "code",
   "execution_count": null,
   "id": "6293a325",
   "metadata": {},
   "outputs": [],
   "source": []
  }
 ],
 "metadata": {
  "kernelspec": {
   "display_name": "Python 3 (ipykernel)",
   "language": "python",
   "name": "python3"
  },
  "language_info": {
   "codemirror_mode": {
    "name": "ipython",
    "version": 3
   },
   "file_extension": ".py",
   "mimetype": "text/x-python",
   "name": "python",
   "nbconvert_exporter": "python",
   "pygments_lexer": "ipython3",
   "version": "3.10.12"
  },
  "widgets": {
   "application/vnd.jupyter.widget-state+json": {
    "state": {
     "0d0016361971469789a546a705a35ecd": {
      "model_module": "@jupyter-widgets/base",
      "model_module_version": "1.2.0",
      "model_name": "LayoutModel",
      "state": {
       "_model_module": "@jupyter-widgets/base",
       "_model_module_version": "1.2.0",
       "_model_name": "LayoutModel",
       "_view_count": null,
       "_view_module": "@jupyter-widgets/base",
       "_view_module_version": "1.2.0",
       "_view_name": "LayoutView",
       "align_content": null,
       "align_items": null,
       "align_self": null,
       "border": null,
       "bottom": null,
       "display": null,
       "flex": null,
       "flex_flow": null,
       "grid_area": null,
       "grid_auto_columns": null,
       "grid_auto_flow": null,
       "grid_auto_rows": null,
       "grid_column": null,
       "grid_gap": null,
       "grid_row": null,
       "grid_template_areas": null,
       "grid_template_columns": null,
       "grid_template_rows": null,
       "height": null,
       "justify_content": null,
       "justify_items": null,
       "left": null,
       "margin": null,
       "max_height": null,
       "max_width": null,
       "min_height": null,
       "min_width": null,
       "object_fit": null,
       "object_position": null,
       "order": null,
       "overflow": null,
       "overflow_x": null,
       "overflow_y": null,
       "padding": null,
       "right": null,
       "top": null,
       "visibility": null,
       "width": null
      }
     },
     "0e69853361e2433994d5db90d4a72a9d": {
      "model_module": "webgui_jupyter_widgets",
      "model_module_version": "0.2.10",
      "model_name": "WebguiModel",
      "state": {
       "_dom_classes": [],
       "_model_module": "webgui_jupyter_widgets",
       "_model_module_version": "0.2.10",
       "_model_name": "WebguiModel",
       "_view_count": null,
       "_view_module": "webgui_jupyter_widgets",
       "_view_module_version": "0.2.10",
       "_view_name": "WebguiView",
       "layout": "IPY_MODEL_0d0016361971469789a546a705a35ecd",
       "value": {
        "Bezier_points": [],
        "Bezier_trig_points": [
         "AAAAvwAAAD8AAAAAAAAAAAAAwD8AAMC/AAAAAAAAAAAAAMA/AADAvwAAAAAAAAAAAADAvwAAwD8AAAAAAAAAAM3MzD7NzMy9AAAAAAAAAAAAAAA/zczMvQAAAAAAAAAAzczMPs3MzD0AAAAAAAAAAM3MzD7NzMw9AAAAAAAAAAAAAAA/zczMPQAAAAAAAAAAAAAAP83MzD0AAAAAAAAAAAAAAD/NzMw9AAAAAAAAAADNzMw+zczMPgAAAAAAAAAAAADAPwAAwD8AAAAAAAAAAAAAwD8AAMA/AAAAAAAAAAAAAMA/AADAPwAAAAAAAAAAAADAPwAAwD8AAAAAAAAAAA==",
         "AADAvwAAwL8AAAAAAAAAAAAAAD8AAAC/AAAAAAAAAAAAAAC/AAAAvwAAAAAAAAAAAADAvwAAwL8AAAAAAAAAAM3MzL7NzMy+AAAAAAAAAAAAAAA/AAAAvwAAAAAAAAAAzczMvs3MzD4AAAAAAAAAAM3MzL7NzMy+AAAAAAAAAADNzMw+zczMvQAAAAAAAAAAAAAAP83MzL0AAAAAAAAAAM3MzD7NzMw9AAAAAAAAAADNzMy+zczMPgAAAAAAAAAAAAAAvwAAAD8AAAAAAAAAAAAAAD8AAAA/AAAAAAAAAAAAAMC/AADAPwAAAAAAAAAAAAAAP83MzD0AAAAAAAAAAA==",
         "AAAAvwAAAL8AAAAAAAAAAAAAAL8AAAC/AAAAAAAAAAAAAMC/AADAvwAAAAAAAAAAAAAAvwAAAD8AAAAAAAAAAM3MzD7NzMy+AAAAAAAAAAAAAMA/AADAvwAAAAAAAAAAzczMvs3MzL4AAAAAAAAAAM3MzD7NzMy9AAAAAAAAAAAAAAA/zczMvQAAAAAAAAAAAADAPwAAwL8AAAAAAAAAAM3MzD7NzMy9AAAAAAAAAADNzMw+zczMPQAAAAAAAAAAAAAAPwAAAD8AAAAAAAAAAAAAAD/NzMw9AAAAAAAAAAAAAAC/AAAAPwAAAAAAAAAAAADAPwAAwL8AAAAAAAAAAA==",
         "AAAAAAAAAAAAAIA/AAAAAAAAAAAAAIA/AAAAAAAAAAAAAIA/AAAAAAAAAAAAAIA/AAAAAAAAAAAAAIA/AAAAAAAAAAAAAIA/AAAAAAAAAAAAAIA/AAAAAAAAAAAAAIA/AAAAAAAAAAAAAIA/AAAAAAAAAAAAAIA/AAAAAAAAAAAAAIA/AAAAAAAAAAAAAIA/AAAAAAAAAAAAAIA/AAAAAAAAAAAAAIA/AAAAAAAAAAAAAIA/AAAAAAAAAAAAAIA/",
         "AAAAAAAAAAAAAIA/AAAAAAAAAAAAAIA/AAAAAAAAAAAAAIA/AAAAAAAAAAAAAIA/AAAAAAAAAAAAAIA/AAAAAAAAAAAAAIA/AAAAAAAAAAAAAIA/AAAAAAAAAAAAAIA/AAAAAAAAAAAAAIA/AAAAAAAAAAAAAIA/AAAAAAAAAAAAAIA/AAAAAAAAAAAAAIA/AAAAAAAAAAAAAIA/AAAAAAAAAAAAAIA/AAAAAAAAAAAAAIA/AAAAAAAAAAAAAIA/",
         "AAAAAAAAAAAAAIA/AAAAAAAAAAAAAIA/AAAAAAAAAAAAAIA/AAAAAAAAAAAAAIA/AAAAAAAAAAAAAIA/AAAAAAAAAAAAAIA/AAAAAAAAAAAAAIA/AAAAAAAAAAAAAIA/AAAAAAAAAAAAAIA/AAAAAAAAAAAAAIA/AAAAAAAAAAAAAIA/AAAAAAAAAAAAAIA/AAAAAAAAAAAAAIA/AAAAAAAAAAAAAIA/AAAAAAAAAAAAAIA/AAAAAAAAAAAAAIA/"
        ],
        "autoscale": true,
        "colors": [
         [
          0.0,
          1.0,
          0.0,
          1.0
         ]
        ],
        "draw_surf": true,
        "draw_vol": false,
        "edge_colors": [
         [
          0.0,
          0.0,
          0.0
         ],
         [
          0.0,
          0.0,
          0.0
         ],
         [
          0.0,
          0.0,
          0.0
         ],
         [
          0.0,
          0.0,
          0.0
         ],
         [
          0.0,
          0.0,
          0.0
         ],
         [
          0.0,
          0.0,
          0.0
         ],
         [
          0.0,
          0.0,
          0.0
         ],
         [
          0.0,
          0.0,
          0.0
         ],
         [
          0.0,
          0.0,
          0.0
         ],
         [
          0.0,
          0.0,
          0.0
         ],
         [
          0.0,
          0.0,
          0.0
         ],
         [
          0.0,
          0.0,
          0.0
         ],
         [
          0.0,
          0.0,
          0.0
         ],
         [
          0.0,
          0.0,
          0.0
         ],
         [
          0.0,
          0.0,
          0.0
         ],
         [
          0.0,
          0.0,
          0.0
         ]
        ],
        "edge_names": [
         "outer",
         "outer",
         "outer",
         "outer",
         "inner",
         "inner",
         "inner",
         "inner",
         "inner",
         "inner",
         "inner",
         "inner",
         "inner",
         "inner",
         "inner",
         "inner"
        ],
        "edges": [
         "AADAvwAAwL8AAAAAAAAAAAAAwL8AAMA/AAAAAAAAgD8AAMA/AADAvwAAAAAAAABAAADAPwAAwD8AAAAAAABAQAAAAL8AAAA/AAAAAAAAgEAAAAC/AAAAvwAAAAAAAKBAAAAAPwAAAL8AAAAAAADAQM3MzD7NzMy9AAAAAAAA4EDNzMw+zczMvgAAAAAAAABBzczMvs3MzL4AAAAAAAAQQc3MzL7NzMw+AAAAAAAAIEHNzMw+zczMPgAAAAAAADBBzczMPs3MzD0AAAAAAABAQQAAAD/NzMw9AAAAAAAAUEEAAAA/zczMPQAAAAAAAGBBAAAAPwAAAD8AAAAAAABwQQ==",
         "AADAPwAAwL8AAAAAAAAAAAAAwL8AAMC/AAAAAAAAgD8AAMA/AADAPwAAAAAAAABAAADAvwAAwD8AAAAAAABAQAAAAL8AAAC/AAAAAAAAgEAAAAA/AAAAvwAAAAAAAKBAAAAAP83MzL0AAAAAAADAQAAAAD/NzMy9AAAAAAAA4EDNzMw+zczMvQAAAAAAAABBzczMPs3MzL4AAAAAAAAQQc3MzL7NzMy+AAAAAAAAIEHNzMy+zczMPgAAAAAAADBBzczMPs3MzD4AAAAAAABAQc3MzD7NzMw9AAAAAAAAUEEAAAA/AAAAPwAAAAAAAGBBAAAAvwAAAD8AAAAAAABwQQ=="
        ],
        "fullscreen": false,
        "funcdim": 0,
        "funcmax": 1,
        "funcmin": 0,
        "gui_settings": {},
        "have_normals": true,
        "mesh_center": [
         1.1102230246251565e-16,
         2.220446049250313e-16,
         0.0
        ],
        "mesh_dim": 3,
        "mesh_radius": 2.121320343559643,
        "mesh_regions_2d": 16,
        "names": [
         "default"
        ],
        "ngsolve_version": "Netgen x.x",
        "objects": [],
        "order2d": 1,
        "order3d": 0,
        "show_mesh": true,
        "show_wireframe": true,
        "solid_face_map": [],
        "solid_names": []
       }
      }
     }
    },
    "version_major": 2,
    "version_minor": 0
   }
  }
 },
 "nbformat": 4,
 "nbformat_minor": 5
}