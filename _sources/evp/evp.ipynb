{
 "cells": [
  {
   "cell_type": "markdown",
   "id": "eeb65fe4",
   "metadata": {},
   "source": [
    "# Eigenvalue solvers in NGSolve\n",
    "\n",
    "The goal of this section is to solve (generalized) matrix eigenvalue problems to find $u\\in\\mathbb C^N$, $\\lambda\\in\\mathbb C$ such that\n",
    "\n",
    "$$\n",
    "A u = \\lambda M u\n",
    "$$\n",
    "for given matrices $A,M\\in\\mathbb C^{N\\times N}$"
   ]
  },
  {
   "cell_type": "markdown",
   "id": "fc76d19f",
   "metadata": {},
   "source": [
    "## Shift-and-invert\n",
    "\n",
    "Algorithms like the power iteration or the Arnoldi method approximate eigenvectors corresponding to the largest magnitude eigenvalues. However in wave applications typically the smallest magnitude eigenvalues or ones in a specific region are sought.\n",
    "\n",
    "The following observation transforms the generalized eigenvalue problem into a problem with the same eigenvectors but eigenvalues sorted by closeness to a given shift:\n",
    "\n",
    "Let $\\lambda_0\\in \\mathbb C$ be not an eigenvalue. Then the problem to find $u\\in \\mathbb C^N$, $\\tilde\\lambda\\in\\mathbb C$ such that\n",
    "\n",
    "$$\n",
    "(A-\\lambda_0M)^{-1}Mu = \\tilde\\lambda u\n",
    "$$\n",
    "\n",
    "has the same eigenvectors as the original problem with the eigenvalues given by \n",
    "$$\n",
    "\\tilde \\lambda = \\frac{1}{\\lambda-\\lambda_0}.\n",
    "$$\n",
    "\n",
    "Thus the largest magnitude eigenvalues $\\tilde \\lambda$ of the shifted problem correspond to the ones of the original problem closest to the shift $\\lambda_0$.\n",
    "\n",
    "## Arnoldi algorithm\n",
    "\n",
    "The idea of the arnoldi algorithm is similiar to the one of the power iteration: for a given starting vector $v_0$ the Krylow space of order $k$ is defined by \n",
    "$$V_k:=\\mathrm{span}\\{v_0,v_1=M^{-1}A v_0,\\ldots,v_k=(M^{-1}A)^kv_0\\}$$  \n",
    "\n",
    "After a given number of steps the problem (i.e., the large matrices) is projected onto the (small) Krylow space and the small eigenvalue problem is solved. The resulting approximations are approximations to the largest magnitude eigenvalues."
   ]
  },
  {
   "cell_type": "markdown",
   "id": "26e7bfd9",
   "metadata": {},
   "source": [
    "## Shift-and-invert Arnoldi algorithm\n",
    "\n",
    "It is common to combine these two ideas.\n",
    "Suppose we want to compute the eigenvalues of the Laplacian on the `unit_square`. Then the matrices in `NGSolve` are assembled as usual"
   ]
  },
  {
   "cell_type": "code",
   "execution_count": 1,
   "id": "0c32f6c8",
   "metadata": {},
   "outputs": [],
   "source": [
    "from ngsolve import *\n",
    "from ngsolve.webgui import Draw"
   ]
  },
  {
   "cell_type": "code",
   "execution_count": 42,
   "id": "05d3f4d3",
   "metadata": {},
   "outputs": [],
   "source": [
    "mesh = Mesh(unit_square.GenerateMesh(maxh=0.1))\n",
    "\n",
    "fes = H1(mesh,order = 4,complex=True)\n",
    "\n",
    "u,v = fes.TnT()\n",
    "\n",
    "A = BilinearForm(grad(u)*grad(v)*dx).Assemble().mat\n",
    "M = BilinearForm(u*v*dx).Assemble().mat"
   ]
  },
  {
   "cell_type": "markdown",
   "id": "d713bf10",
   "metadata": {},
   "source": [
    "To use `ArnoldiSolver` we have to supply a `multidim` `GridFunction` to store the eigenvectors.\n",
    "The actual Krylow space is twice as large as the dimension of the `GridFunction`, however half of the approximated eigenvalues are thrown away (rule of thumb)"
   ]
  },
  {
   "cell_type": "code",
   "execution_count": 43,
   "id": "50ed3976",
   "metadata": {},
   "outputs": [],
   "source": [
    "gfu = GridFunction(fes,multidim=100)\n",
    "shift = 1\n",
    "\n",
    "lam = ArnoldiSolver(A,M, shift=shift, vecs = list(gfu.vecs),freedofs=fes.FreeDofs())"
   ]
  },
  {
   "cell_type": "code",
   "execution_count": 44,
   "id": "908b9066",
   "metadata": {},
   "outputs": [
    {
     "name": "stdout",
     "output_type": "stream",
     "text": [
      "[-2.69973866e-16-8.91179602e-19j  1.00000000e+00+1.07853344e-15j\n",
      "  1.00000000e+00-1.15458387e-15j  2.00000000e+00-8.33069060e-17j\n",
      "  4.00000000e+00-1.49634854e-15j  4.00000000e+00-1.79317854e-15j\n",
      "  5.00000001e+00+3.25555212e-15j  5.00000001e+00-1.48475067e-16j\n",
      "  8.00000006e+00+3.32855662e-15j  9.00000009e+00-2.42333473e-14j\n",
      "  9.00000016e+00-2.50028046e-14j  1.00000002e+01+5.69862784e-14j\n",
      "  1.00000002e+01+2.35984423e-15j  1.30000007e+01+2.21310326e-14j\n",
      "  1.30000009e+01+3.52467275e-15j  1.60000028e+01+7.22712190e-14j\n",
      "  1.60000015e+01-1.11431478e-14j  1.70000021e+01-1.26965772e-13j\n",
      "  1.70000035e+01+3.69521069e-14j  1.80000042e+01-2.52617645e-15j\n",
      "  2.00000056e+01-6.30782147e-14j  2.00000073e+01-9.90543694e-16j\n",
      "  2.60000162e+01-1.23450891e-13j  2.60000288e+01-2.96067105e-14j\n",
      "  2.50000277e+01-3.15106383e-14j  2.50000142e+01+1.30603161e-13j\n",
      "  2.50000220e+01+4.31229212e-14j  2.50000187e+01-6.62194628e-14j\n",
      "  2.90000474e+01-6.69627443e-14j  2.90000339e+01-4.95366957e-14j\n",
      "  3.20000788e+01-5.78740851e-14j  3.40001126e+01+1.74792094e-13j\n",
      "  3.40000783e+01-2.06248187e-13j  3.60000803e+01+8.58676394e-15j\n",
      "  3.60001502e+01-9.53751679e-14j  3.70001838e+01-1.38647244e-13j\n",
      "  3.70000935e+01-1.87924523e-14j  4.00001506e+01+2.08525987e-13j\n",
      "  4.00002180e+01-1.62883800e-15j  4.10002006e+01+4.90695942e-14j\n",
      "  4.10002660e+01+6.22630753e-14j  4.50003008e+01-1.42290509e-13j\n",
      "  4.50003802e+01+1.92130291e-13j  4.90004482e+01+7.44617141e-13j\n",
      "  4.90008512e+01-1.77268492e-13j  5.30006263e+01-3.69327239e-13j\n",
      "  5.20006175e+01+1.46744440e-13j  5.20009507e+01+1.72437631e-13j\n",
      "  5.00009064e+01-2.79173731e-13j  5.00004637e+01+1.75218485e-13j\n",
      "  5.00006775e+01+1.13893163e-14j  5.30011080e+01-6.18128330e-15j\n",
      "  5.80013329e+01+3.91513331e-14j  5.80009120e+01+1.25072046e-13j\n",
      "  6.10014716e+01-1.69180016e-13j  6.10016770e+01-2.99545774e-13j\n",
      "  6.40027880e+01+4.18763192e-13j  6.40016106e+01+7.30222499e-14j\n",
      "  6.80032402e+01-7.32692735e-13j  6.80020988e+01+1.19835664e-13j\n",
      "  6.50033885e+01-5.32171630e-14j  6.50020873e+01+2.70563283e-13j\n",
      "  6.50017260e+01+5.18035252e-13j  6.50018360e+01-1.29459137e-13j\n",
      "  7.20040556e+01+7.71531106e-13j  7.30042300e+01+1.78680943e-13j\n",
      "  7.30028447e+01-2.29086149e-13j  7.40052227e+01-9.76841625e-14j\n",
      "  7.40035331e+01-3.78327666e-13j  8.00064645e+01+1.56967673e-13j\n",
      "  8.00044111e+01-1.00218474e-14j  8.10092967e+01-1.29737652e-13j\n",
      "  8.10046709e+01-4.06076512e-13j  8.20053210e+01-1.79326264e-13j\n",
      "  8.20099275e+01-2.29729757e-13j  9.00077004e+01+8.70954154e-13j\n",
      "  9.00133902e+01-7.75409203e-13j  8.90099731e+01+3.06375854e-13j\n",
      "  8.90068408e+01-5.51744265e-14j  8.50110027e+01+1.68966571e-13j\n",
      "  8.50060808e+01-7.97398893e-13j  8.50077806e+01-5.83625540e-11j\n",
      "  8.50077161e+01-7.78951108e-11j  9.80150627e+01+8.76880838e-13j\n",
      "  9.70109077e+01+2.52881258e-10j  9.70154319e+01+2.70731712e-10j\n",
      "  1.01025460e+02-1.47890091e-06j  1.01014456e+02+3.16248164e-06j\n",
      "  1.00012871e+02+1.31456578e-04j  1.00025833e+02-1.08264669e-04j\n",
      "  1.00019868e+02+9.63278703e-05j  1.04016868e+02+2.96512772e-05j\n",
      "  1.04027626e+02+1.19962352e-05j  1.06023951e+02-6.72480231e-07j\n",
      "  1.06016794e+02+2.32830007e-05j  1.09033950e+02-4.10284046e-05j\n",
      "  1.09019309e+02+7.92146563e-06j  1.13028131e+02+3.66648860e-04j\n",
      "  1.13036118e+02+8.32073526e-04j  1.16029574e+02+2.71076190e-04j]\n"
     ]
    }
   ],
   "source": [
    "import numpy as np\n",
    "print(np.array(lam)/np.pi**2)"
   ]
  },
  {
   "cell_type": "code",
   "execution_count": 45,
   "id": "f0b0f8e0",
   "metadata": {},
   "outputs": [
    {
     "data": {
      "application/vnd.jupyter.widget-view+json": {
       "model_id": "f833940d5d264ef0a97285b4c554c81d",
       "version_major": 2,
       "version_minor": 0
      },
      "text/plain": [
       "WebGuiWidget(value={'gui_settings': {}, 'ngsolve_version': '6.2.2403', 'mesh_dim': 2, 'order2d': 2, 'order3d':…"
      ]
     },
     "metadata": {},
     "output_type": "display_data"
    },
    {
     "data": {
      "text/plain": [
       "BaseWebGuiScene"
      ]
     },
     "execution_count": 45,
     "metadata": {},
     "output_type": "execute_result"
    }
   ],
   "source": [
    "Draw(gfu)"
   ]
  },
  {
   "cell_type": "markdown",
   "id": "0ac0bf93",
   "metadata": {},
   "source": [
    "## Explicit methods\n",
    "\n",
    "Explicit eigenvalue solvers in `NGSolve` include `PINVIT` and `LOBPCG`"
   ]
  },
  {
   "cell_type": "code",
   "execution_count": 14,
   "id": "447d8abb",
   "metadata": {},
   "outputs": [],
   "source": [
    "from ngsolve.solvers import *"
   ]
  },
  {
   "cell_type": "code",
   "execution_count": 16,
   "id": "ada1bd5d",
   "metadata": {},
   "outputs": [
    {
     "name": "stdout",
     "output_type": "stream",
     "text": [
      "Help on function PINVIT in module ngsolve.eigenvalues:\n",
      "\n",
      "PINVIT(mata, matm, pre, num=1, maxit=20, printrates=True, GramSchmidt=True)\n",
      "    preconditioned inverse iteration\n",
      "\n",
      "Help on function LOBPCG in module ngsolve.eigenvalues:\n",
      "\n",
      "LOBPCG(mata, matm, pre, num=1, maxit=20, initial=None, printrates=True, largest=False)\n",
      "    Knyazev's cg-like extension of PINVIT\n",
      "\n"
     ]
    }
   ],
   "source": [
    "help(PINVIT)\n",
    "help(LOBPCG)"
   ]
  },
  {
   "cell_type": "code",
   "execution_count": 32,
   "id": "dbfc0bf0",
   "metadata": {},
   "outputs": [
    {
     "name": "stdout",
     "output_type": "stream",
     "text": [
      "[6.34976576e-08 1.00003153e+00 1.04891865e+00 3.97291471e+00]\n"
     ]
    }
   ],
   "source": [
    "lam,vecs = PINVIT(A,M,M.Inverse(),num=4,maxit=10000,printrates=False)\n",
    "print(np.array(lam)/np.pi**2)\n"
   ]
  },
  {
   "cell_type": "code",
   "execution_count": 31,
   "id": "0d05aa14",
   "metadata": {},
   "outputs": [
    {
     "name": "stdout",
     "output_type": "stream",
     "text": [
      "[-1.58926725e-16  1.00000000e+00  1.00000000e+00  2.00000000e+00]\n"
     ]
    }
   ],
   "source": [
    "lam,vecs = LOBPCG(A,M,M.Inverse(),num=4,maxit=1000,printrates=False)\n",
    "print(np.array(lam)/np.pi**2)\n"
   ]
  },
  {
   "cell_type": "code",
   "execution_count": null,
   "id": "d36509e3",
   "metadata": {},
   "outputs": [],
   "source": []
  }
 ],
 "metadata": {
  "kernelspec": {
   "display_name": "Python 3 (ipykernel)",
   "language": "python",
   "name": "python3"
  },
  "language_info": {
   "codemirror_mode": {
    "name": "ipython",
    "version": 3
   },
   "file_extension": ".py",
   "mimetype": "text/x-python",
   "name": "python",
   "nbconvert_exporter": "python",
   "pygments_lexer": "ipython3",
   "version": "3.10.12"
  }
 },
 "nbformat": 4,
 "nbformat_minor": 5
}
