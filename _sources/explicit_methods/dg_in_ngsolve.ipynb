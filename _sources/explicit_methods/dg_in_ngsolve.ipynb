{
 "cells": [
  {
   "cell_type": "markdown",
   "id": "803899aa",
   "metadata": {},
   "source": [
    "# DG Operators in NGSolve\n",
    "\n",
    "We want to efficiently implement the mass and gradient bilinear forms from the previous section.\n",
    "\n",
    "## Spaces\n",
    "\n",
    "We use `L2` and `VectorL2` spaces"
   ]
  },
  {
   "cell_type": "code",
   "execution_count": 29,
   "id": "3bc53f84",
   "metadata": {},
   "outputs": [
    {
     "name": "stdout",
     "output_type": "stream",
     "text": [
      "649656 974484\n"
     ]
    }
   ],
   "source": [
    "from ngsolve import *\n",
    "from netgen.occ import *\n",
    "from ngsolve.webgui import Draw\n",
    "\n",
    "geo = OCCGeometry(unit_square.shape, dim = 2)\n",
    "mesh = Mesh(geo.GenerateMesh(maxh = 0.01))\n",
    "\n",
    "\n",
    "order = 6\n",
    "fes_p = L2(mesh, order = order)\n",
    "fes_v = VectorL2(mesh, order = order-1)\n",
    "\n",
    "p,p_ = fes_p.TnT()\n",
    "v,v_ = fes_v.TnT()\n",
    "\n",
    "print(fes_p.ndof, fes_v.ndof)"
   ]
  },
  {
   "cell_type": "markdown",
   "id": "efdc411c",
   "metadata": {},
   "source": [
    "## Mass matrices\n",
    "\n",
    "Mass Operators can be assembled"
   ]
  },
  {
   "cell_type": "code",
   "execution_count": 24,
   "id": "5995a776",
   "metadata": {},
   "outputs": [
    {
     "name": "stdout",
     "output_type": "stream",
     "text": [
      "Assembling and factorization:  3.9310574531555176\n",
      "20 matrix applications:  3.2477149963378906\n"
     ]
    }
   ],
   "source": [
    "from time import time\n",
    "\n",
    "now = time()\n",
    "mass_p_inv = BilinearForm(p*p_*dx).Assemble().mat.Inverse()\n",
    "mass_v_inv = BilinearForm(v*v_*dx).Assemble().mat.Inverse()\n",
    "print(\"Assembling and factorization: \",time()-now)\n",
    "\n",
    "tmp_p = mass_p_inv.CreateVector()\n",
    "tmp_v = mass_v_inv.CreateVector()\n",
    "\n",
    "tmp_p.SetRandom()\n",
    "tmp_v.SetRandom()\n",
    "now = time()\n",
    "for i in range(20):\n",
    "    tmp_p.data = mass_p_inv*tmp_p\n",
    "    tmp_v.data = mass_v_inv*tmp_v\n",
    "print(\"20 matrix applications: \",time()-now)"
   ]
  },
  {
   "cell_type": "markdown",
   "id": "5e0df736",
   "metadata": {},
   "source": [
    "alternatively they can be applied matrix-free"
   ]
  },
  {
   "cell_type": "code",
   "execution_count": 25,
   "id": "70d2b014",
   "metadata": {},
   "outputs": [
    {
     "name": "stdout",
     "output_type": "stream",
     "text": [
      "Assembling and factorization:  0.08060789108276367\n",
      "20 matrix applications:  0.3024129867553711\n"
     ]
    }
   ],
   "source": [
    "now = time()\n",
    "\n",
    "mass_p_inv = fes_p.Mass(1).Inverse()\n",
    "mass_v_inv = fes_v.Mass(1).Inverse()\n",
    "print(\"Assembling and factorization: \",time()-now)\n",
    "\n",
    "tmp_p.SetRandom()\n",
    "tmp_v.SetRandom()\n",
    "now = time()\n",
    "for i in range(20):\n",
    "    tmp_p.data = mass_p_inv*tmp_p\n",
    "    tmp_v.data = mass_v_inv*tmp_v\n",
    "    \n",
    "print(\"20 matrix applications: \",time()-now)"
   ]
  },
  {
   "cell_type": "markdown",
   "id": "3a69f3ce",
   "metadata": {},
   "source": [
    "## Gradients\n",
    "\n",
    "### Version with `.Other()`"
   ]
  },
  {
   "cell_type": "code",
   "execution_count": 26,
   "id": "90687b31",
   "metadata": {},
   "outputs": [
    {
     "name": "stdout",
     "output_type": "stream",
     "text": [
      "Assembling and factorization:  0.0005583763122558594\n",
      "20 matrix applications:  3.0518743991851807\n"
     ]
    }
   ],
   "source": [
    "fes = fes_p*fes_v\n",
    "\n",
    "gf = GridFunction(fes)\n",
    "gf.vec.SetRandom()\n",
    "\n",
    "\n",
    "(P,V),(P_,V_) = fes.TnT()\n",
    "\n",
    "\n",
    "n = specialcf.normal(mesh.dim)\n",
    "\n",
    "\n",
    "now = time()\n",
    "B = BilinearForm(fes, nonassemble=True)\n",
    "B += grad(P)*V_ * dx + 0.5*(P.Other()-P)*(V_*n) * dx(element_boundary=True)\n",
    "BT = BilinearForm(fes, nonassemble=True)\n",
    "BT += grad(P_)*V * dx + 0.5*(P_.Other()-P_)*(V*n) * dx(element_boundary=True)\n",
    "print(\"Assembling and factorization: \",time()-now)\n",
    "\n",
    "\n",
    "now = time()\n",
    "for i in range(20):\n",
    "    gf.vec.data = B.mat*gf.vec\n",
    "    \n",
    "print(\"20 matrix applications: \",time()-now)"
   ]
  },
  {
   "cell_type": "markdown",
   "id": "b3b623ba",
   "metadata": {},
   "source": [
    "### Version with `TraceOperator`"
   ]
  },
  {
   "cell_type": "code",
   "execution_count": 27,
   "id": "006c879d",
   "metadata": {},
   "outputs": [
    {
     "name": "stdout",
     "output_type": "stream",
     "text": [
      "Assembling and factorization:  1.4245126247406006\n",
      "20 matrix applications:  1.156559705734253\n"
     ]
    }
   ],
   "source": [
    "fes_tr = FacetFESpace(mesh,order=order)\n",
    "pT = fes_tr.TrialFunction()\n",
    "\n",
    "\n",
    "now = time()\n",
    "traceop = fes_p.TraceOperator(fes_tr,average=True)\n",
    "\n",
    "\n",
    "\n",
    "Bel = BilinearForm(trialspace=fes_p, testspace=fes_v)\n",
    "Bel += grad(p)*v_ * dx -p*(v_*n) * dx(element_boundary=True)\n",
    "Bel.Assemble()\n",
    "\n",
    "Btr = BilinearForm(trialspace=fes_tr, testspace=fes_v)\n",
    "Btr += 0.5 * pT * (v_*n) * dx(element_boundary=True)\n",
    "Btr.Assemble()\n",
    "\n",
    "emb_p = fes.embeddings[0]\n",
    "emb_v = fes.embeddings[1]\n",
    "\n",
    "B = emb_v @ (Bel.mat + Btr.mat @ traceop) @ emb_p.T\n",
    "print(\"Assembling and factorization: \",time()-now)\n",
    "\n",
    "now = time()\n",
    "for i in range(20):\n",
    "    gf.vec.data = B*gf.vec\n",
    "    \n",
    "print(\"20 matrix applications: \",time()-now)"
   ]
  },
  {
   "cell_type": "markdown",
   "id": "c47bcecc",
   "metadata": {},
   "source": [
    "### Geometry free `TraceOperator`"
   ]
  },
  {
   "cell_type": "code",
   "execution_count": 28,
   "id": "08d7d460",
   "metadata": {},
   "outputs": [
    {
     "name": "stdout",
     "output_type": "stream",
     "text": [
      "Assembling and factorization:  0.04546666145324707\n",
      "20 matrix applications:  0.25931668281555176\n"
     ]
    }
   ],
   "source": [
    "fes_v = VectorL2(mesh, order = order-1, piola = True)\n",
    "\n",
    "v,v_ = fes_v.TnT()\n",
    "now = time()\n",
    "Bel = BilinearForm(trialspace=fes_p, testspace=fes_v, geom_free=True)\n",
    "Bel += grad(p)*v_ * dx -p*(v_*n) * dx(element_boundary=True)\n",
    "Bel.Assemble()\n",
    "\n",
    "Btr = BilinearForm(trialspace=fes_tr, testspace=fes_v, geom_free=True)\n",
    "Btr += 0.5 * pT * (v_*n) * dx(element_boundary=True)\n",
    "Btr.Assemble()\n",
    "\n",
    "emb_p = fes.embeddings[0]\n",
    "emb_v = fes.embeddings[1]\n",
    "\n",
    "B = emb_v @ (Bel.mat + Btr.mat @ traceop) @ emb_p.T\n",
    "print(\"Assembling and factorization: \",time()-now)\n",
    "\n",
    "now = time()\n",
    "for i in range(20):\n",
    "    gf.vec.data = B*gf.vec\n",
    "    \n",
    "print(\"20 matrix applications: \",time()-now)"
   ]
  },
  {
   "cell_type": "code",
   "execution_count": null,
   "id": "9fa22592",
   "metadata": {},
   "outputs": [],
   "source": []
  },
  {
   "cell_type": "code",
   "execution_count": null,
   "id": "7ab3e1ca",
   "metadata": {},
   "outputs": [],
   "source": []
  }
 ],
 "metadata": {
  "kernelspec": {
   "display_name": "Python 3 (ipykernel)",
   "language": "python",
   "name": "python3"
  },
  "language_info": {
   "codemirror_mode": {
    "name": "ipython",
    "version": 3
   },
   "file_extension": ".py",
   "mimetype": "text/x-python",
   "name": "python",
   "nbconvert_exporter": "python",
   "pygments_lexer": "ipython3",
   "version": "3.10.12"
  }
 },
 "nbformat": 4,
 "nbformat_minor": 5
}
