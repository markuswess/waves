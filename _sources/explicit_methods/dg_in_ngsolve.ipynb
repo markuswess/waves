{
 "cells": [
  {
   "cell_type": "markdown",
   "id": "803899aa",
   "metadata": {},
   "source": [
    "# DG Operators in NGSolve\n",
    "\n",
    "We want to efficiently implement the mass and gradient bilinear forms from the previous section.\n",
    "\n",
    "## Spaces\n",
    "\n",
    "We use `L2` and `VectorL2` spaces"
   ]
  },
  {
   "cell_type": "code",
   "execution_count": 7,
   "id": "3bc53f84",
   "metadata": {},
   "outputs": [
    {
     "name": "stdout",
     "output_type": "stream",
     "text": [
      "649656 974484\n"
     ]
    }
   ],
   "source": [
    "from ngsolve import *\n",
    "from netgen.occ import *\n",
    "from ngsolve.webgui import Draw\n",
    "\n",
    "geo = OCCGeometry(unit_square.shape, dim = 2)\n",
    "mesh = Mesh(geo.GenerateMesh(maxh = 0.01))\n",
    "\n",
    "\n",
    "order = 6\n",
    "fes_p = L2(mesh, order = order)\n",
    "fes_v = VectorL2(mesh, order = order-1)\n",
    "\n",
    "p,p_ = fes_p.TnT()\n",
    "v,v_ = fes_v.TnT()\n",
    "\n",
    "print(fes_p.ndof, fes_v.ndof)"
   ]
  },
  {
   "cell_type": "code",
   "execution_count": 8,
   "id": "7279ff76",
   "metadata": {},
   "outputs": [
    {
     "data": {
      "application/vnd.jupyter.widget-view+json": {
       "model_id": "2971b4273a0d4da996c8cb3978f868ea",
       "version_major": 2,
       "version_minor": 0
      },
      "text/plain": [
       "WebGuiWidget(value={'gui_settings': {}, 'ngsolve_version': '6.2.2402-37-g45ed24bde', 'mesh_dim': 2, 'order2d':…"
      ]
     },
     "metadata": {},
     "output_type": "display_data"
    },
    {
     "data": {
      "text/plain": [
       "BaseWebGuiScene"
      ]
     },
     "execution_count": 8,
     "metadata": {},
     "output_type": "execute_result"
    }
   ],
   "source": [
    "gfp = GridFunction(fes_p)\n",
    "gfp.vec[100]=1.\n",
    "Draw(gfp)"
   ]
  },
  {
   "cell_type": "markdown",
   "id": "efdc411c",
   "metadata": {},
   "source": [
    "## Mass matrices\n",
    "\n",
    "Mass Operators can be assembled"
   ]
  },
  {
   "cell_type": "code",
   "execution_count": 9,
   "id": "5995a776",
   "metadata": {},
   "outputs": [
    {
     "name": "stdout",
     "output_type": "stream",
     "text": [
      "Assembling and factorization:  4.310660362243652\n",
      "20 matrix applications:  3.2749738693237305\n"
     ]
    }
   ],
   "source": [
    "from time import time\n",
    "\n",
    "now = time()\n",
    "mass_p_inv = BilinearForm(p*p_*dx).Assemble().mat.Inverse()\n",
    "mass_v_inv = BilinearForm(v*v_*dx).Assemble().mat.Inverse()\n",
    "print(\"Assembling and factorization: \",time()-now)\n",
    "\n",
    "tmp_p = mass_p_inv.CreateVector()\n",
    "tmp_v = mass_v_inv.CreateVector()\n",
    "\n",
    "tmp_p.SetRandom()\n",
    "tmp_v.SetRandom()\n",
    "now = time()\n",
    "for i in range(20):\n",
    "    tmp_p.data = mass_p_inv*tmp_p\n",
    "    tmp_v.data = mass_v_inv*tmp_v\n",
    "print(\"20 matrix applications: \",time()-now)"
   ]
  },
  {
   "cell_type": "markdown",
   "id": "5e0df736",
   "metadata": {},
   "source": [
    "alternatively they can be applied matrix-free"
   ]
  },
  {
   "cell_type": "code",
   "execution_count": 10,
   "id": "70d2b014",
   "metadata": {},
   "outputs": [
    {
     "name": "stdout",
     "output_type": "stream",
     "text": [
      "Assembling and factorization:  0.09638404846191406\n",
      "20 matrix applications:  0.30399298667907715\n"
     ]
    }
   ],
   "source": [
    "from time import time\n",
    "now = time()\n",
    "\n",
    "mass_p_inv = fes_p.Mass(1).Inverse()\n",
    "mass_v_inv = fes_v.Mass(1).Inverse()\n",
    "print(\"Assembling and factorization: \",time()-now)\n",
    "tmp_p = mass_p_inv.CreateVector()\n",
    "tmp_v = mass_v_inv.CreateVector()\n",
    "tmp_p.SetRandom()\n",
    "tmp_v.SetRandom()\n",
    "now = time()\n",
    "for i in range(20):\n",
    "    tmp_p.data = mass_p_inv*tmp_p\n",
    "    tmp_v.data = mass_v_inv*tmp_v\n",
    "    \n",
    "print(\"20 matrix applications: \",time()-now)"
   ]
  },
  {
   "cell_type": "markdown",
   "id": "3a69f3ce",
   "metadata": {},
   "source": [
    "## Gradients\n",
    "\n",
    "### Version with `.Other()`"
   ]
  },
  {
   "cell_type": "code",
   "execution_count": 11,
   "id": "90687b31",
   "metadata": {},
   "outputs": [
    {
     "name": "stdout",
     "output_type": "stream",
     "text": [
      "Assembling and factorization:  0.0006022453308105469\n",
      "20 matrix applications:  3.425299644470215\n"
     ]
    }
   ],
   "source": [
    "fes = fes_p*fes_v\n",
    "\n",
    "gf = GridFunction(fes)\n",
    "gf.vec.SetRandom()\n",
    "\n",
    "\n",
    "(P,V),(P_,V_) = fes.TnT()\n",
    "\n",
    "\n",
    "n = specialcf.normal(mesh.dim)\n",
    "\n",
    "\n",
    "now = time()\n",
    "B = BilinearForm(fes, nonassemble=True)\n",
    "B += grad(P)*V_ * dx + 0.5*(P.Other()-P)*(V_*n) * dx(element_boundary=True)\n",
    "BT = BilinearForm(fes, nonassemble=True)\n",
    "BT += grad(P_)*V * dx + 0.5*(P_.Other()-P_)*(V*n) * dx(element_boundary=True)\n",
    "print(\"Assembling and factorization: \",time()-now)\n",
    "\n",
    "\n",
    "now = time()\n",
    "for i in range(20):\n",
    "    gf.vec.data = B.mat*gf.vec\n",
    "    \n",
    "print(\"20 matrix applications: \",time()-now)"
   ]
  },
  {
   "cell_type": "markdown",
   "id": "b3b623ba",
   "metadata": {},
   "source": [
    "### Version with `TraceOperator`"
   ]
  },
  {
   "cell_type": "code",
   "execution_count": 12,
   "id": "006c879d",
   "metadata": {},
   "outputs": [
    {
     "name": "stdout",
     "output_type": "stream",
     "text": [
      "Assembling and factorization:  0.9520788192749023\n",
      "20 matrix applications:  0.7076926231384277\n"
     ]
    }
   ],
   "source": [
    "fes_tr = FacetFESpace(mesh,order=order)\n",
    "pT = fes_tr.TrialFunction()\n",
    "\n",
    "\n",
    "now = time()\n",
    "traceop = fes_p.TraceOperator(fes_tr,average=True)\n",
    "\n",
    "\n",
    "\n",
    "Bel = BilinearForm(trialspace=fes_p, testspace=fes_v)\n",
    "Bel += grad(p)*v_ * dx -p*(v_*n) * dx(element_boundary=True)\n",
    "Bel.Assemble()\n",
    "\n",
    "Btr = BilinearForm(trialspace=fes_tr, testspace=fes_v)\n",
    "Btr += pT * (v_*n) * dx(element_boundary=True)\n",
    "Btr.Assemble()\n",
    "\n",
    "emb_p = fes.embeddings[0]\n",
    "emb_v = fes.embeddings[1]\n",
    "\n",
    "B = emb_v @ (Bel.mat + Btr.mat @ traceop) @ emb_p.T\n",
    "print(\"Assembling and factorization: \",time()-now)\n",
    "\n",
    "now = time()\n",
    "for i in range(20):\n",
    "    gf.vec.data = B*gf.vec\n",
    "    \n",
    "print(\"20 matrix applications: \",time()-now)"
   ]
  },
  {
   "cell_type": "markdown",
   "id": "c47bcecc",
   "metadata": {},
   "source": [
    "### Geometry free `TraceOperator`"
   ]
  },
  {
   "cell_type": "code",
   "execution_count": 13,
   "id": "08d7d460",
   "metadata": {},
   "outputs": [
    {
     "name": "stdout",
     "output_type": "stream",
     "text": [
      "Assembling and factorization:  0.03208279609680176\n",
      "20 matrix applications:  0.16531062126159668\n"
     ]
    }
   ],
   "source": [
    "fes_v = VectorL2(mesh, order = order-1, piola = True)\n",
    "\n",
    "v,v_ = fes_v.TnT()\n",
    "now = time()\n",
    "Bel = BilinearForm(trialspace=fes_p, testspace=fes_v, geom_free=True)\n",
    "Bel += grad(p)*v_ * dx -p*(v_*n) * dx(element_boundary=True)\n",
    "Bel.Assemble()\n",
    "\n",
    "Btr = BilinearForm(trialspace=fes_tr, testspace=fes_v, geom_free=True)\n",
    "Btr += 0.5 * pT * (v_*n) * dx(element_boundary=True)\n",
    "Btr.Assemble()\n",
    "\n",
    "emb_p = fes.embeddings[0]\n",
    "emb_v = fes.embeddings[1]\n",
    "\n",
    "B = emb_v @ (Bel.mat + Btr.mat @ traceop) @ emb_p.T\n",
    "print(\"Assembling and factorization: \",time()-now)\n",
    "\n",
    "now = time()\n",
    "for i in range(20):\n",
    "    gf.vec.data = B*gf.vec\n",
    "    \n",
    "print(\"20 matrix applications: \",time()-now)"
   ]
  },
  {
   "cell_type": "code",
   "execution_count": null,
   "id": "9fa22592",
   "metadata": {},
   "outputs": [],
   "source": []
  },
  {
   "cell_type": "code",
   "execution_count": null,
   "id": "7ab3e1ca",
   "metadata": {},
   "outputs": [],
   "source": []
  }
 ],
 "metadata": {
  "kernelspec": {
   "display_name": "Python 3 (ipykernel)",
   "language": "python",
   "name": "python3"
  },
  "language_info": {
   "codemirror_mode": {
    "name": "ipython",
    "version": 3
   },
   "file_extension": ".py",
   "mimetype": "text/x-python",
   "name": "python",
   "nbconvert_exporter": "python",
   "pygments_lexer": "ipython3",
   "version": "3.10.12"
  }
 },
 "nbformat": 4,
 "nbformat_minor": 5
}
