{
 "cells": [
  {
   "cell_type": "markdown",
   "id": "803899aa",
   "metadata": {},
   "source": [
    "# Integration rules in NGSolve"
   ]
  },
  {
   "cell_type": "code",
   "execution_count": 1,
   "id": "3bc53f84",
   "metadata": {},
   "outputs": [],
   "source": [
    "from ngsolve import *\n",
    "from ngsolve.webgui import Draw"
   ]
  },
  {
   "cell_type": "markdown",
   "id": "7a119dad",
   "metadata": {},
   "source": [
    "In NGSolve an `IntegrationRule` for finite element meshes is defined on the respective reference element. E.g. for a triangle `TRIG` the reference element has the vertices $(0,0),(1,0),(0,1)$, "
   ]
  },
  {
   "cell_type": "code",
   "execution_count": 2,
   "id": "7279ff76",
   "metadata": {},
   "outputs": [
    {
     "name": "stdout",
     "output_type": "stream",
     "text": [
      " locnr = 0: (0.816848, 0.0915762, 0), weight = 0.0549759\n",
      " locnr = 1: (0.0915762, 0.816848, 0), weight = 0.0549759\n",
      " locnr = 2: (0.0915762, 0.0915762, 0), weight = 0.0549759\n",
      " locnr = 3: (0.108103, 0.445948, 0), weight = 0.111691\n",
      " locnr = 4: (0.445948, 0.108103, 0), weight = 0.111691\n",
      " locnr = 5: (0.445948, 0.445948, 0), weight = 0.111691\n",
      "\n"
     ]
    }
   ],
   "source": [
    "k = 4\n",
    "\n",
    "intrule = IntegrationRule(TRIG,k) #returns an integration rule of at least order k\n",
    "print(intrule)"
   ]
  },
  {
   "cell_type": "markdown",
   "id": "e40d9b0f",
   "metadata": {},
   "source": [
    "An `IntegrationRule` consists of `IntegrationPoints` which have a position and a weight:"
   ]
  },
  {
   "cell_type": "code",
   "execution_count": 3,
   "id": "7ab3e1ca",
   "metadata": {},
   "outputs": [
    {
     "name": "stdout",
     "output_type": "stream",
     "text": [
      "point:  (0.816847572980459, 0.091576213509771, 0.0)\n",
      "weight:  0.054975871827661\n",
      "point:  (0.091576213509771, 0.816847572980459, 0.0)\n",
      "weight:  0.054975871827661\n",
      "point:  (0.091576213509771, 0.091576213509771, 0.0)\n",
      "weight:  0.054975871827661\n",
      "point:  (0.10810301816807, 0.445948490915965, 0.0)\n",
      "weight:  0.111690794839005\n",
      "point:  (0.445948490915965, 0.10810301816807, 0.0)\n",
      "weight:  0.111690794839005\n",
      "point:  (0.445948490915965, 0.445948490915965, 0.0)\n",
      "weight:  0.111690794839005\n"
     ]
    },
    {
     "data": {
      "image/png": "[encoded data removed]",
      "text/plain": [
       "<Figure size 432x288 with 1 Axes>"
      ]
     },
     "metadata": {
      "needs_background": "light"
     },
     "output_type": "display_data"
    }
   ],
   "source": [
    "import matplotlib.pyplot as pl\n",
    "\n",
    "pl.plot([0,1,0,0],[0,0,1,0])\n",
    "for ip in intrule:\n",
    "    print(\"point: \", ip.point)\n",
    "    print(\"weight: \", ip.weight)\n",
    "    pl.plot(ip.point[0],ip.point[1],'x')"
   ]
  },
  {
   "cell_type": "markdown",
   "id": "ca9f1a9c",
   "metadata": {},
   "source": [
    "We may check the accuracy of the integration rule by using `IntegrationRule.Integrate(f)` for a `lambda` function `f` on the reference element."
   ]
  },
  {
   "cell_type": "code",
   "execution_count": 4,
   "id": "64ead578",
   "metadata": {},
   "outputs": [
    {
     "name": "stdout",
     "output_type": "stream",
     "text": [
      "Polynomial of order 0: error =  1.942890293094024e-15\n",
      "Polynomial of order 1: error =  8.326672684688674e-17\n",
      "Polynomial of order 2: error =  1.249000902703301e-16\n",
      "Polynomial of order 3: error =  0.0\n",
      "Polynomial of order 4: error =  0.0\n",
      "Polynomial of order 5: error =  4.961309141293668e-16\n",
      "Polynomial of order 6: error =  1.5855372570428017e-15\n",
      "Polynomial of order 7: error =  2.750544061753263e-06\n",
      "Polynomial of order 8: error =  4.881966328910969e-06\n",
      "Polynomial of order 9: error =  7.801460834254426e-07\n"
     ]
    }
   ],
   "source": [
    "intrule = IntegrationRule(TRIG, 5)\n",
    "\n",
    "for i in range(10):\n",
    "    intrule_ref = IntegrationRule(TRIG,i+2)\n",
    "    int_ref = intrule_ref.Integrate(lambda x,y: x**i)\n",
    "    int_approx = intrule.Integrate(lambda x,y: x**i)\n",
    "    print(\"Polynomial of order {}: error =  {}\".format(i, abs(int_ref-int_approx)))"
   ]
  },
  {
   "cell_type": "markdown",
   "id": "2bcac1ff",
   "metadata": {},
   "source": [
    "Integration over a finite element `Mesh` can be done by supplying the integration rule(s) (if more than one type of element is present in the mesh)"
   ]
  },
  {
   "cell_type": "code",
   "execution_count": 5,
   "id": "dbbea2c6",
   "metadata": {},
   "outputs": [
    {
     "data": {
      "application/vnd.jupyter.widget-view+json": {
       "model_id": "f0308ae94cc14fa2934f7249dc30276f",
       "version_major": 2,
       "version_minor": 0
      },
      "text/plain": [
       "WebGuiWidget(value={'gui_settings': {}, 'ngsolve_version': '6.2.2402-37-g45ed24bde', 'mesh_dim': 2, 'order2d':…"
      ]
     },
     "metadata": {},
     "output_type": "display_data"
    },
    {
     "name": "stdout",
     "output_type": "stream",
     "text": [
      "-0.024473463319343535\n"
     ]
    }
   ],
   "source": [
    "mesh = Mesh(unit_square.GenerateMesh(maxh=0.2))\n",
    "Draw(mesh)\n",
    "print(Integrate(sin(6*pi*x)*sin(10*pi*y)*dx(intrules = {TRIG: IntegrationRule(TRIG,0)}),mesh))"
   ]
  },
  {
   "cell_type": "markdown",
   "id": "a8cbb793",
   "metadata": {},
   "source": [
    "For mesh refinement we should observe convergence:"
   ]
  },
  {
   "cell_type": "code",
   "execution_count": 6,
   "id": "fa62e119",
   "metadata": {},
   "outputs": [
    {
     "name": "stdout",
     "output_type": "stream",
     "text": [
      "refinement:  0\n",
      "order = 0\n",
      "order = 1\n",
      "order = 2\n",
      "order = 3\n",
      "order = 4\n",
      "refinement:  1\n",
      "order = 0\n",
      "order = 1\n",
      "order = 2\n",
      "order = 3\n",
      "order = 4\n",
      "refinement:  2\n",
      "order = 0\n",
      "order = 1\n",
      "order = 2\n",
      "order = 3\n",
      "order = 4\n",
      "refinement:  3\n",
      "order = 0\n",
      "order = 1\n",
      "order = 2\n",
      "order = 3\n",
      "order = 4\n",
      "refinement:  4\n",
      "order = 0\n",
      "order = 1\n",
      "order = 2\n",
      "order = 3\n",
      "order = 4\n",
      "refinement:  5\n",
      "order = 0\n",
      "order = 1\n",
      "order = 2\n",
      "order = 3\n",
      "order = 4\n"
     ]
    }
   ],
   "source": [
    "import numpy as np\n",
    "\n",
    "mesh = Mesh(unit_square.GenerateMesh(maxh=0.2))\n",
    "\n",
    "intorders = [0,1,2,3,4]\n",
    "refinements = 6\n",
    "errors = np.zeros((refinements,len(intorders)))\n",
    "hs =     np.ones((refinements,len(intorders)))\n",
    "for i in range(refinements):\n",
    "    print(\"refinement: \", i)\n",
    "    for j in range(len(intorders)):\n",
    "        print(\"order = {}\".format(intorders[j]))\n",
    "        intrules = {TRIG: IntegrationRule(TRIG, intorders[j])}\n",
    "        integral = abs(Integrate(sin(6*pi*x)*sin(10*pi*y)*dx(intrules = intrules),mesh))\n",
    "        errors[i,j]=integral\n",
    "        hs[i,j]=1/2**i\n",
    "    mesh.Refine()\n",
    "    "
   ]
  },
  {
   "cell_type": "code",
   "execution_count": 7,
   "id": "0f3998f5",
   "metadata": {},
   "outputs": [
    {
     "data": {
      "image/png": "[encoded data removed]",
      "text/plain": [
       "<Figure size 432x288 with 1 Axes>"
      ]
     },
     "metadata": {
      "needs_background": "light"
     },
     "output_type": "display_data"
    }
   ],
   "source": [
    "pl.loglog(hs,errors);"
   ]
  },
  {
   "cell_type": "markdown",
   "id": "6563b490",
   "metadata": {},
   "source": [
    "For mixed meshes we also need an integration rule for quads:"
   ]
  },
  {
   "cell_type": "code",
   "execution_count": 55,
   "id": "250cd7f0",
   "metadata": {},
   "outputs": [
    {
     "data": {
      "application/vnd.jupyter.widget-view+json": {
       "model_id": "8024bc1052074cc18777e19904f4dfdb",
       "version_major": 2,
       "version_minor": 0
      },
      "text/plain": [
       "WebGuiWidget(value={'gui_settings': {}, 'ngsolve_version': '6.2.2402-37-g45ed24bde', 'mesh_dim': 2, 'order2d':…"
      ]
     },
     "metadata": {},
     "output_type": "display_data"
    },
    {
     "name": "stdout",
     "output_type": "stream",
     "text": [
      "refinement:  0\n",
      "order = 0\n",
      "order = 1\n",
      "order = 2\n",
      "refinement:  1\n",
      "order = 0\n",
      "order = 1\n",
      "order = 2\n",
      "refinement:  2\n",
      "order = 0\n",
      "order = 1\n",
      "order = 2\n",
      "refinement:  3\n",
      "order = 0\n",
      "order = 1\n",
      "order = 2\n",
      "refinement:  4\n",
      "order = 0\n",
      "order = 1\n",
      "order = 2\n",
      "refinement:  5\n",
      "order = 0\n",
      "order = 1\n",
      "order = 2\n",
      "refinement:  6\n",
      "order = 0\n",
      "order = 1\n",
      "order = 2\n"
     ]
    }
   ],
   "source": [
    "from netgen.occ import *\n",
    "geo = OCCGeometry(Rectangle(1,1).Face()-MoveTo(0.3,0.3).Rectangle(0.2,0.2).Face(),dim=2)\n",
    "\n",
    "mesh = Mesh(geo.GenerateMesh(maxh=0.3,quad_dominated=True))\n",
    "Draw(mesh)\n",
    "\n",
    "intorders = [0,1,2]\n",
    "refinements = 7\n",
    "errors = np.zeros((refinements,len(intorders)))\n",
    "hs =     np.ones((refinements,len(intorders)))\n",
    "\n",
    "intrules_ref = {TRIG: IntegrationRule(TRIG, 20), QUAD:IntegrationRule(QUAD,20)}\n",
    "integral_ref = Integrate(sin(x)*sin(y)*dx(intrules = intrules_ref),mesh)\n",
    "for i in range(refinements):\n",
    "    print(\"refinement: \", i)\n",
    "    for j in range(len(intorders)):\n",
    "        print(\"order = {}\".format(intorders[j]))\n",
    "        intrules = {TRIG: IntegrationRule(TRIG, intorders[j]),QUAD: IntegrationRule(QUAD, intorders[j])}\n",
    "        integral = Integrate(sin(x)*sin(y)*dx(intrules = intrules),mesh)\n",
    "        errors[i,j] = abs(integral-integral_ref)\n",
    "        hs[i,j]=1/2**i\n",
    "    mesh.Refine()\n"
   ]
  },
  {
   "cell_type": "code",
   "execution_count": 54,
   "id": "49542025",
   "metadata": {},
   "outputs": [
    {
     "data": {
      "image/png": "[encoded data removed]",
      "text/plain": [
       "<Figure size 432x288 with 1 Axes>"
      ]
     },
     "metadata": {
      "needs_background": "light"
     },
     "output_type": "display_data"
    }
   ],
   "source": [
    "pl.loglog(hs,errors);"
   ]
  },
  {
   "cell_type": "markdown",
   "id": "5a68f416",
   "metadata": {},
   "source": [
    "One may also create an own integration rule:"
   ]
  },
  {
   "cell_type": "code",
   "execution_count": 80,
   "id": "1645b48f",
   "metadata": {},
   "outputs": [],
   "source": [
    "my_intrule_trig = IntegrationRule([(0,0),(1,0),(0,1)],[1/6,1/6,1/6])\n",
    "my_intrule_quad = IntegrationRule([(0,0),(1,0),(0,1),(1,1)],[1/4,1/4,1/4,1/4])"
   ]
  },
  {
   "cell_type": "code",
   "execution_count": 81,
   "id": "303991c2",
   "metadata": {},
   "outputs": [
    {
     "data": {
      "application/vnd.jupyter.widget-view+json": {
       "model_id": "c6a2ffbe5db44d629c7fb083d1b3cecb",
       "version_major": 2,
       "version_minor": 0
      },
      "text/plain": [
       "WebGuiWidget(value={'gui_settings': {}, 'ngsolve_version': '6.2.2402-37-g45ed24bde', 'mesh_dim': 2, 'order2d':…"
      ]
     },
     "metadata": {},
     "output_type": "display_data"
    }
   ],
   "source": [
    "geo = OCCGeometry(Rectangle(1,1).Face()-MoveTo(0.3,0.3).Rectangle(0.2,0.2).Face(),dim=2)\n",
    "\n",
    "mesh = Mesh(geo.GenerateMesh(maxh=0.3,quad_dominated=True))\n",
    "Draw(mesh)\n",
    "\n",
    "intrules_ref = {TRIG: IntegrationRule(TRIG, 20), QUAD:IntegrationRule(QUAD,20)}\n",
    "integral_ref = Integrate(sin(x)*sin(y)*dx(intrules = intrules_ref),mesh)\n",
    "refinements = 6\n",
    "errors = []\n",
    "hs = []\n",
    "for i in range(refinements):\n",
    "        intrules = {TRIG: my_intrule_trig,QUAD: my_intrule_quad}\n",
    "        integral = Integrate(sin(x)*sin(y)*dx(intrules = intrules),mesh)\n",
    "        errors.append(abs(integral-integral_ref))\n",
    "        hs.append(1/2**i)\n",
    "        mesh.Refine()"
   ]
  },
  {
   "cell_type": "code",
   "execution_count": 82,
   "id": "6cb03439",
   "metadata": {},
   "outputs": [
    {
     "data": {
      "image/png": "[encoded data removed]",
      "text/plain": [
       "<Figure size 432x288 with 1 Axes>"
      ]
     },
     "metadata": {
      "needs_background": "light"
     },
     "output_type": "display_data"
    }
   ],
   "source": [
    "pl.loglog(hs,errors);\n",
    "pl.loglog(hs,[h**2 for h in hs]);"
   ]
  },
  {
   "cell_type": "code",
   "execution_count": null,
   "id": "5a961545",
   "metadata": {},
   "outputs": [],
   "source": []
  },
  {
   "cell_type": "code",
   "execution_count": null,
   "id": "6747c7b8",
   "metadata": {},
   "outputs": [],
   "source": []
  }
 ],
 "metadata": {
  "kernelspec": {
   "display_name": "Python 3 (ipykernel)",
   "language": "python",
   "name": "python3"
  },
  "language_info": {
   "codemirror_mode": {
    "name": "ipython",
    "version": 3
   },
   "file_extension": ".py",
   "mimetype": "text/x-python",
   "name": "python",
   "nbconvert_exporter": "python",
   "pygments_lexer": "ipython3",
   "version": "3.10.12"
  }
 },
 "nbformat": 4,
 "nbformat_minor": 5
}
