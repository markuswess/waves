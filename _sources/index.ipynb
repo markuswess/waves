{
 "cells": [
  {
   "cell_type": "markdown",
   "id": "4e0b7fe7",
   "metadata": {},
   "source": [
    "# Index\n",
    "\n",
    "[examples for 2d geometries](first_numerics/2d_geometries.ipynb)\n",
    "[examples for 3d geometries](first_numerics/3d_geometries.ipynb)\n",
    "[basic wave equation](first_numerics/wave_eq.ipynb)"
   ]
  }
 ],
 "metadata": {
  "kernelspec": {
   "display_name": "Python 3 (ipykernel)",
   "language": "python",
   "name": "python3"
  },
  "language_info": {
   "codemirror_mode": {
    "name": "ipython",
    "version": 3
   },
   "file_extension": ".py",
   "mimetype": "text/x-python",
   "name": "python",
   "nbconvert_exporter": "python",
   "pygments_lexer": "ipython3",
   "version": "3.10.12"
  }
 },
 "nbformat": 4,
 "nbformat_minor": 5
}
