{
 "cells": [
  {
   "cell_type": "markdown",
   "id": "85ac153b",
   "metadata": {},
   "source": [
    "# Perfectly matched layers in NGSolve\n",
    "\n",
    "In `NGSolve` PMLs are implemented as additional mesh transformation. First a `PML` object is generated."
   ]
  },
  {
   "cell_type": "code",
   "execution_count": 1,
   "id": "5a5b202b",
   "metadata": {},
   "outputs": [],
   "source": [
    "from ngsolve import *\n",
    "from ngsolve.webgui import Draw\n",
    "\n",
    "pml_cart = pml.Cartesian((0,0),(0.5,0.5),3j)"
   ]
  },
  {
   "cell_type": "markdown",
   "id": "c613af91",
   "metadata": {},
   "source": [
    "`pml.Cartesian((xmin, ymin), (xmax,ymax),alpha)` generates a cartesian PML with a complex scaling outside of the rectangle $\\Omega_{\\mathrm {int}}$ defined by `xmin,ymin,xmax,ymax` with complex coordinate stretching `1+alpha`.\n",
    "\n",
    "Calling the mapping yields the complex scaled point:"
   ]
  },
  {
   "cell_type": "code",
   "execution_count": 2,
   "id": "8b148288",
   "metadata": {},
   "outputs": [
    {
     "data": {
      "text/plain": [
       "( (1,1.5)\n",
       "    (0,0),\n",
       "  (3,7.5)\n",
       "  (1,1.5))"
      ]
     },
     "execution_count": 2,
     "metadata": {},
     "output_type": "execute_result"
    }
   ],
   "source": [
    "pml_cart(1,0), pml_cart(3,1)"
   ]
  },
  {
   "cell_type": "markdown",
   "id": "03c11020",
   "metadata": {},
   "source": [
    "The `PML` class also offers the scaling and its Jacobian and determinant as a `CoefficientFunction`"
   ]
  },
  {
   "cell_type": "code",
   "execution_count": 3,
   "id": "cd69af62",
   "metadata": {
    "scrolled": false
   },
   "outputs": [
    {
     "data": {
      "application/vnd.jupyter.widget-view+json": {
       "model_id": "e4555030a2e343e78ea7c99ae671da47",
       "version_major": 2,
       "version_minor": 0
      },
      "text/plain": [
       "WebGuiWidget(value={'gui_settings': {}, 'ngsolve_version': '6.2.2401-4-g6fc35016a', 'mesh_dim': 2, 'order2d': …"
      ]
     },
     "metadata": {},
     "output_type": "display_data"
    },
    {
     "data": {
      "application/vnd.jupyter.widget-view+json": {
       "model_id": "fad6364210444c9b8f3db571251937bc",
       "version_major": 2,
       "version_minor": 0
      },
      "text/plain": [
       "WebGuiWidget(value={'gui_settings': {}, 'ngsolve_version': '6.2.2401-4-g6fc35016a', 'mesh_dim': 2, 'order2d': …"
      ]
     },
     "metadata": {},
     "output_type": "display_data"
    },
    {
     "data": {
      "application/vnd.jupyter.widget-view+json": {
       "model_id": "1ad8231e701c4fd3900ea539788731f9",
       "version_major": 2,
       "version_minor": 0
      },
      "text/plain": [
       "WebGuiWidget(value={'gui_settings': {}, 'ngsolve_version': '6.2.2401-4-g6fc35016a', 'mesh_dim': 2, 'order2d': …"
      ]
     },
     "metadata": {},
     "output_type": "display_data"
    },
    {
     "data": {
      "application/vnd.jupyter.widget-view+json": {
       "model_id": "f4aee5a7c2664e1487f1b87bb3abe011",
       "version_major": 2,
       "version_minor": 0
      },
      "text/plain": [
       "WebGuiWidget(value={'gui_settings': {}, 'ngsolve_version': '6.2.2401-4-g6fc35016a', 'mesh_dim': 2, 'order2d': …"
      ]
     },
     "metadata": {},
     "output_type": "display_data"
    },
    {
     "data": {
      "application/vnd.jupyter.widget-view+json": {
       "model_id": "abb7cb65fbd74f8ea1491299c83267a3",
       "version_major": 2,
       "version_minor": 0
      },
      "text/plain": [
       "WebGuiWidget(value={'gui_settings': {}, 'ngsolve_version': '6.2.2401-4-g6fc35016a', 'mesh_dim': 2, 'order2d': …"
      ]
     },
     "metadata": {},
     "output_type": "display_data"
    },
    {
     "data": {
      "application/vnd.jupyter.widget-view+json": {
       "model_id": "c3713bf0fd9b4a8e82f0d37911c4c95e",
       "version_major": 2,
       "version_minor": 0
      },
      "text/plain": [
       "WebGuiWidget(value={'gui_settings': {}, 'ngsolve_version': '6.2.2401-4-g6fc35016a', 'mesh_dim': 2, 'order2d': …"
      ]
     },
     "metadata": {},
     "output_type": "display_data"
    },
    {
     "data": {
      "text/plain": [
       "BaseWebGuiScene"
      ]
     },
     "execution_count": 3,
     "metadata": {},
     "output_type": "execute_result"
    }
   ],
   "source": [
    "mesh = Mesh(unit_square.GenerateMesh(maxh=0.1))\n",
    "Draw(pml_cart.PML_CF.real,mesh,vectors=True)\n",
    "Draw(pml_cart.PML_CF.imag,mesh,vectors=True)\n",
    "\n",
    "Draw(pml_cart.Det_CF.real,mesh)\n",
    "Draw(pml_cart.Det_CF.imag,mesh)\n",
    "\n",
    "Draw(pml_cart.Jac_CF.real,mesh)\n",
    "Draw(pml_cart.Jac_CF.imag,mesh)"
   ]
  },
  {
   "cell_type": "markdown",
   "id": "03e279db",
   "metadata": {},
   "source": [
    "To set a PML to a mesh one may use `Mesh.SetPML(PML,domain)`"
   ]
  },
  {
   "cell_type": "code",
   "execution_count": 4,
   "id": "dbb6e97f",
   "metadata": {},
   "outputs": [],
   "source": [
    "mesh.SetPML(pml_cart,'.*')"
   ]
  },
  {
   "cell_type": "markdown",
   "id": "41381bd9",
   "metadata": {},
   "source": [
    "Assembling a matrix will now integrate over the \"complex\" mesh:"
   ]
  },
  {
   "cell_type": "code",
   "execution_count": 5,
   "id": "9b961814",
   "metadata": {},
   "outputs": [
    {
     "name": "stdout",
     "output_type": "stream",
     "text": [
      "(0.0008333333333333365+0.0012500000000000048j)\n"
     ]
    }
   ],
   "source": [
    "fes = H1(mesh, complex = True)\n",
    "\n",
    "u,v = fes.TnT()\n",
    "\n",
    "bfm = BilinearForm(u*v*dx).Assemble()\n",
    "\n",
    "print(bfm.mat[0,0])"
   ]
  },
  {
   "cell_type": "markdown",
   "id": "b2571e82",
   "metadata": {},
   "source": [
    "## Different types of PMLs\n",
    "\n",
    "There exist different types of scalings e.g., `PML.Radial`, `PML.HalfSpace`, `PML.BrickRadial`"
   ]
  },
  {
   "cell_type": "code",
   "execution_count": 6,
   "id": "27b6cf79",
   "metadata": {},
   "outputs": [
    {
     "data": {
      "application/vnd.jupyter.widget-view+json": {
       "model_id": "76078505905146baa2a97f25066edb1d",
       "version_major": 2,
       "version_minor": 0
      },
      "text/plain": [
       "WebGuiWidget(value={'gui_settings': {}, 'ngsolve_version': '6.2.2401-4-g6fc35016a', 'mesh_dim': 2, 'order2d': …"
      ]
     },
     "metadata": {},
     "output_type": "display_data"
    },
    {
     "data": {
      "text/plain": [
       "BaseWebGuiScene"
      ]
     },
     "execution_count": 6,
     "metadata": {},
     "output_type": "execute_result"
    }
   ],
   "source": [
    "pml_rad = pml.Radial((0,0),0.2)\n",
    "\n",
    "Draw(pml_rad.PML_CF.imag,mesh,order=5)"
   ]
  },
  {
   "cell_type": "code",
   "execution_count": 7,
   "id": "759ee3af",
   "metadata": {},
   "outputs": [
    {
     "data": {
      "application/vnd.jupyter.widget-view+json": {
       "model_id": "f3688bdda9004a89b61b9a9b75cd44ef",
       "version_major": 2,
       "version_minor": 0
      },
      "text/plain": [
       "WebGuiWidget(value={'gui_settings': {}, 'ngsolve_version': '6.2.2401-4-g6fc35016a', 'mesh_dim': 2, 'order2d': …"
      ]
     },
     "metadata": {},
     "output_type": "display_data"
    },
    {
     "data": {
      "text/plain": [
       "BaseWebGuiScene"
      ]
     },
     "execution_count": 7,
     "metadata": {},
     "output_type": "execute_result"
    }
   ],
   "source": [
    "pml_half = pml.HalfSpace((0.5,0),(2,1))\n",
    "\n",
    "Draw(pml_half.PML_CF.imag,mesh,order=5)"
   ]
  },
  {
   "cell_type": "code",
   "execution_count": 8,
   "id": "0289a1d5",
   "metadata": {},
   "outputs": [
    {
     "data": {
      "application/vnd.jupyter.widget-view+json": {
       "model_id": "f80531d3f945499ea744119222b65a3d",
       "version_major": 2,
       "version_minor": 0
      },
      "text/plain": [
       "WebGuiWidget(value={'gui_settings': {}, 'ngsolve_version': '6.2.2401-4-g6fc35016a', 'mesh_dim': 2, 'order2d': …"
      ]
     },
     "metadata": {},
     "output_type": "display_data"
    },
    {
     "data": {
      "text/plain": [
       "BaseWebGuiScene"
      ]
     },
     "execution_count": 8,
     "metadata": {},
     "output_type": "execute_result"
    }
   ],
   "source": [
    "pml_brickrad = pml.BrickRadial((0.2,0.2),(0.4,0.8),(0.3,0.3))\n",
    "\n",
    "Draw(pml_brickrad.PML_CF.imag,mesh,order=5)"
   ]
  },
  {
   "cell_type": "markdown",
   "id": "1d131039",
   "metadata": {},
   "source": [
    "## Combining PMLs\n",
    "\n",
    "PMLs can be combined using `+`:"
   ]
  },
  {
   "cell_type": "code",
   "execution_count": 14,
   "id": "44912195",
   "metadata": {},
   "outputs": [
    {
     "data": {
      "application/vnd.jupyter.widget-view+json": {
       "model_id": "efb4f25aa1fd41fb93b36a7d34afd507",
       "version_major": 2,
       "version_minor": 0
      },
      "text/plain": [
       "WebGuiWidget(value={'gui_settings': {}, 'ngsolve_version': '6.2.2401-4-g6fc35016a', 'mesh_dim': 3, 'order2d': …"
      ]
     },
     "metadata": {},
     "output_type": "display_data"
    },
    {
     "data": {
      "text/plain": [
       "BaseWebGuiScene"
      ]
     },
     "execution_count": 14,
     "metadata": {},
     "output_type": "execute_result"
    }
   ],
   "source": [
    "sumpml = pml.HalfSpace((0.5,0),(1,0))+pml.HalfSpace((0,0.5),(0.5,1))\n",
    "\n",
    "Draw(sumpml.PML_CF.imag,mesh,order=5)"
   ]
  },
  {
   "cell_type": "markdown",
   "id": "c08b8ba2",
   "metadata": {},
   "source": [
    "This can e.g., be used to create a cartesian scaling with different strength in each direction"
   ]
  },
  {
   "cell_type": "code",
   "execution_count": 15,
   "id": "734e667a",
   "metadata": {},
   "outputs": [
    {
     "data": {
      "application/vnd.jupyter.widget-view+json": {
       "model_id": "5b4b27d9d6a54708b88907fd6ef3bb23",
       "version_major": 2,
       "version_minor": 0
      },
      "text/plain": [
       "WebGuiWidget(value={'gui_settings': {}, 'ngsolve_version': '6.2.2401-4-g6fc35016a', 'mesh_dim': 3, 'order2d': …"
      ]
     },
     "metadata": {},
     "output_type": "display_data"
    },
    {
     "data": {
      "text/plain": [
       "BaseWebGuiScene"
      ]
     },
     "execution_count": 15,
     "metadata": {},
     "output_type": "execute_result"
    }
   ],
   "source": [
    "cart_pml_ani = pml.HalfSpace((0.5,0),(1,0))+pml.HalfSpace((0,0.5),(0,1),5j)\n",
    "\n",
    "Draw(cart_pml_ani.PML_CF.imag,mesh,order=5)"
   ]
  },
  {
   "cell_type": "markdown",
   "id": "1a9e89a8",
   "metadata": {},
   "source": [
    "PMLs can also be tensorized using `CompoundPML`"
   ]
  },
  {
   "cell_type": "code",
   "execution_count": 16,
   "id": "be96d895",
   "metadata": {},
   "outputs": [
    {
     "data": {
      "application/vnd.jupyter.widget-view+json": {
       "model_id": "3e1dbdeede2f46a4ba06b1e4d3d5621d",
       "version_major": 2,
       "version_minor": 0
      },
      "text/plain": [
       "WebGuiWidget(value={'gui_settings': {}, 'ngsolve_version': '6.2.2401-4-g6fc35016a', 'mesh_dim': 3, 'order2d': …"
      ]
     },
     "metadata": {},
     "output_type": "display_data"
    },
    {
     "data": {
      "text/plain": [
       "BaseWebGuiScene"
      ]
     },
     "execution_count": 16,
     "metadata": {},
     "output_type": "execute_result"
    }
   ],
   "source": [
    "pml3d = pml.Compound(sumpml,pml.Cartesian((0.2),(0.7)))\n",
    "mesh = Mesh(unit_cube.GenerateMesh(maxh=0.1))\n",
    "Draw(pml3d.PML_CF.imag,mesh)"
   ]
  },
  {
   "cell_type": "code",
   "execution_count": null,
   "id": "497a5f68",
   "metadata": {},
   "outputs": [],
   "source": []
  }
 ],
 "metadata": {
  "kernelspec": {
   "display_name": "Python 3 (ipykernel)",
   "language": "python",
   "name": "python3"
  },
  "language_info": {
   "codemirror_mode": {
    "name": "ipython",
    "version": 3
   },
   "file_extension": ".py",
   "mimetype": "text/x-python",
   "name": "python",
   "nbconvert_exporter": "python",
   "pygments_lexer": "ipython3",
   "version": "3.10.12"
  }
 },
 "nbformat": 4,
 "nbformat_minor": 5
}
