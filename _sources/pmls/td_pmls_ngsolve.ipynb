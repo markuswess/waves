{
 "cells": [
  {
   "cell_type": "markdown",
   "id": "bc98e894",
   "metadata": {},
   "source": [
    "# Cartesian time-domain PMLs in ngsolve\n",
    "\n",
    "Using `netgen.geom2d` the PML domain can be generated automatically"
   ]
  },
  {
   "cell_type": "code",
   "execution_count": 1,
   "id": "e8258f8e",
   "metadata": {},
   "outputs": [],
   "source": [
    "from ngsolve import *\n",
    "from ngsolve.webgui import Draw\n",
    "from netgen.geom2d import *\n",
    "\n",
    "geo = unit_square\n",
    "geo.SetMaterial(1,'inner')"
   ]
  },
  {
   "cell_type": "code",
   "execution_count": 2,
   "id": "4f893eea",
   "metadata": {},
   "outputs": [
    {
     "name": "stdout",
     "output_type": "stream",
     "text": [
      "{'pml_bottom': <netgen.libngpy._meshing.Vec2d object at 0x7765f47b7eb0>, 'pml_right': <netgen.libngpy._meshing.Vec2d object at 0x7765f47b7f30>, 'pml_top': <netgen.libngpy._meshing.Vec2d object at 0x7765f47b75b0>, 'pml_left': <netgen.libngpy._meshing.Vec2d object at 0x7765f47b59f0>}\n"
     ]
    }
   ],
   "source": [
    "normals = geo.CreatePML(1)['normals']\n",
    "print(normals)"
   ]
  },
  {
   "cell_type": "markdown",
   "id": "7c2b1c8c",
   "metadata": {},
   "source": [
    "The normals in the relevant exterior domains are returned as constant vectors"
   ]
  },
  {
   "cell_type": "code",
   "execution_count": 3,
   "id": "7f107ede",
   "metadata": {},
   "outputs": [
    {
     "name": "stdout",
     "output_type": "stream",
     "text": [
      "('inner', 'pml_bottom', 'pml_corner', 'pml_right', 'pml_corner', 'pml_top', 'pml_corner', 'pml_left', 'pml_corner')\n"
     ]
    },
    {
     "data": {
      "application/vnd.jupyter.widget-view+json": {
       "model_id": "a01c0a59f8be42d980697d6bfbf38429",
       "version_major": 2,
       "version_minor": 0
      },
      "text/plain": [
       "WebGuiWidget(value={'gui_settings': {}, 'ngsolve_version': '6.2.2403', 'mesh_dim': 2, 'order2d': 1, 'order3d':…"
      ]
     },
     "metadata": {},
     "output_type": "display_data"
    },
    {
     "data": {
      "text/plain": [
       "BaseWebGuiScene"
      ]
     },
     "execution_count": 3,
     "metadata": {},
     "output_type": "execute_result"
    }
   ],
   "source": [
    "mesh = Mesh(unit_square.GenerateMesh(maxh=0.05))\n",
    "print(mesh.GetMaterials())\n",
    "Draw(mesh)"
   ]
  },
  {
   "cell_type": "markdown",
   "id": "00b84400",
   "metadata": {},
   "source": [
    "On this domain we want to approximate the problem to find $p,\\hat p\\in H1, v,\\hat v\\in (L^2)^2$\n",
    "\n",
    "\\begin{aligned}\n",
    "\\partial_t \\int_\\Omega   v\\cdot   w &= -\\int_\\Omega \\nabla p\\cdot   w-\\alpha\\int_{\\Omega_{tb}\\cup\\Omega_{lr}}  v\\cdot n n^\\top   w+\\alpha\\int_{\\Omega_{tb}\\cup\\Omega_{lr}}  v\\cdot(\\mathbf I-n n^\\top)  w-\\alpha\\int_{\\Omega_{tb}\\cup\\Omega_{lr}}\\hat v\\cdot\\left(\\mathbf I- nn^\\top\\right)  w +\\int_{\\Omega_{\\mathrm{int}}}f  w\\\\\n",
    "\\partial_t \\int_\\Omega pq &= \\int_\\Omega   v\\cdot \\nabla q-2\\alpha\\int_{\\Omega_c}pq+\\alpha\\int_{\\Omega_c}\\hat p q\\\\\n",
    "\\partial_t \\int_\\Omega \\hat p\\hat q &=\\alpha\\int_{\\Omega_c}p\\hat q\\\\\n",
    "\\partial_t \\int_\\Omega \\hat v\\cdot \\hat w &=-\\alpha\\int_{\\Omega_{tb}\\cup\\Omega_{lr}}\\hat v\\cdot\\left(\\mathbf I- nn^\\top\\right)\\hat w+\\alpha\\int_{\\Omega_{tb}\\cup\\Omega_{lr}}  v\\cdot\\left(\\mathbf I- nn^\\top\\right)\\hat w\n",
    "\\end{aligned}\n",
    "for all $q,\\hat q\\in H^1, w,\\hat w \\in (L^2)^2$,\n",
    "where\n",
    "\n",
    "$$\n",
    "n = \\begin{cases}\n",
    "(1,0)^\\top,& \\Omega_{lr},\\\\\n",
    "(0,1)^\\top,& \\Omega_{tb}.\n",
    "\\end{cases}\n",
    "$$"
   ]
  },
  {
   "cell_type": "markdown",
   "id": "1dd2d5e1",
   "metadata": {},
   "source": [
    "We set up the appropriate spaces"
   ]
  },
  {
   "cell_type": "code",
   "execution_count": 4,
   "id": "896f0348",
   "metadata": {},
   "outputs": [],
   "source": [
    "order = 2\n",
    "fes_p = H1(mesh,order = order)\n",
    "fes_v = VectorL2(mesh,order = order-1)\n",
    "\n",
    "fes = fes_p*fes_p*fes_v*fes_v\n",
    "p,phat, v,vhat = fes.TrialFunction()\n",
    "q,qhat, w,what = fes.TestFunction()\n",
    "\n",
    "p1,q1 = fes_p.TnT()\n",
    "v1,w1 = fes_v.TnT()"
   ]
  },
  {
   "cell_type": "markdown",
   "id": "5200e0be",
   "metadata": {},
   "source": [
    "and mass and gradient matrices"
   ]
  },
  {
   "cell_type": "code",
   "execution_count": 5,
   "id": "04371d30",
   "metadata": {},
   "outputs": [],
   "source": [
    "\n",
    "\n",
    "B = BilinearForm(grad(p1)*w1*dx).Assemble()\n",
    "\n",
    "mass_p = BilinearForm(p1*q1*dx).Assemble()\n",
    "mass_v = BilinearForm(v1*w1*dx).Assemble()"
   ]
  },
  {
   "cell_type": "markdown",
   "id": "f85c6097",
   "metadata": {},
   "source": [
    "to set up the damping matrices we need the normal vectors as coefficient function"
   ]
  },
  {
   "cell_type": "code",
   "execution_count": 6,
   "id": "9cadf419",
   "metadata": {},
   "outputs": [
    {
     "data": {
      "application/vnd.jupyter.widget-view+json": {
       "model_id": "f14c641c840e42699ee341eba26d7199",
       "version_major": 2,
       "version_minor": 0
      },
      "text/plain": [
       "WebGuiWidget(value={'gui_settings': {}, 'ngsolve_version': '6.2.2403', 'mesh_dim': 2, 'order2d': 2, 'order3d':…"
      ]
     },
     "metadata": {},
     "output_type": "display_data"
    },
    {
     "data": {
      "text/plain": [
       "BaseWebGuiScene"
      ]
     },
     "execution_count": 6,
     "metadata": {},
     "output_type": "execute_result"
    }
   ],
   "source": [
    "\n",
    "nvec = { mat : ((normals[mat][0], normals[mat][1]) if mat in normals else (0,0)) for mat in mesh.GetMaterials() }\n",
    "\n",
    "cfn = CF( [CF(nvec[mat]) for mat in mesh.GetMaterials()])\n",
    "Draw(cfn,mesh,vectors=True)"
   ]
  },
  {
   "cell_type": "markdown",
   "id": "d8c9a30c",
   "metadata": {},
   "source": [
    "we define the damping matrices"
   ]
  },
  {
   "cell_type": "code",
   "execution_count": 7,
   "id": "d9ee8d85",
   "metadata": {},
   "outputs": [
    {
     "name": "stderr",
     "output_type": "stream",
     "text": [
      "used dof inconsistency\n",
      "(silence this warning by setting BilinearForm(...check_unused=False) )\n",
      "used dof inconsistency\n",
      "(silence this warning by setting BilinearForm(...check_unused=False) )\n",
      "used dof inconsistency\n",
      "(silence this warning by setting BilinearForm(...check_unused=False) )\n",
      "used dof inconsistency\n",
      "(silence this warning by setting BilinearForm(...check_unused=False) )\n"
     ]
    }
   ],
   "source": [
    "pml1d = mesh.Materials('pml_left|pml_right|pml_top|pml_bottom')\n",
    "\n",
    "dampp_lrtb = BilinearForm (p1*q1*dx(definedon=pml1d)).Assemble().mat\n",
    "dampp_corner = BilinearForm(p1*q1*dx(\"pml_corner\")).Assemble().mat\n",
    "dampv_n = BilinearForm(v1*(OuterProduct(cfn,cfn)*w1)*dx(definedon=pml1d)).Assemble().mat\n",
    "dampv_t = BilinearForm(v1*((Id(2)-OuterProduct(cfn,cfn))*w1)*dx(definedon=pml1d)).Assemble().mat\n"
   ]
  },
  {
   "cell_type": "markdown",
   "id": "21a6832e",
   "metadata": {},
   "source": [
    "To define the big matrices we need a lot of embeddings. Note that we only use vector operations (instead of applying mass matrices) for the auxiliar variables"
   ]
  },
  {
   "cell_type": "code",
   "execution_count": 8,
   "id": "d47d9d86",
   "metadata": {},
   "outputs": [],
   "source": [
    "\n",
    "\n",
    "emb_p, emb_phat, emb_v, emb_vhat = fes.embeddings\n",
    "\n",
    "fullB = emb_v @ B.mat @ emb_p.T\n",
    "dampingv = emb_v @ (dampv_n-dampv_t) @ emb_v.T - emb_v  @ dampv_t @ emb_vhat.T + emb_vhat @ emb_v.T + emb_vhat @ emb_vhat.T\n",
    "dampingp = emb_p @ (dampp_lrtb+2*dampp_corner) @ emb_p.T - emb_p @ dampp_corner @ emb_phat.T + emb_phat @ emb_p.T\n",
    "\n",
    "\n",
    "invmassp = mass_p.mat.Inverse()\n",
    "invmassv = mass_v.mat.Inverse()\n",
    "\n",
    "\n",
    "\n",
    "invp = emb_p @ invmassp @ emb_p.T + emb_phat @ emb_phat.T\n",
    "invv = emb_v @ invmassv @ emb_v.T + emb_vhat @ emb_vhat.T"
   ]
  },
  {
   "cell_type": "markdown",
   "id": "397eeffc",
   "metadata": {},
   "source": [
    "define a `GridFunction` and set initial values"
   ]
  },
  {
   "cell_type": "code",
   "execution_count": 10,
   "id": "3fd753df",
   "metadata": {},
   "outputs": [],
   "source": [
    "\n",
    "\n",
    "gfu = GridFunction(fes)\n",
    "gfu.vec[:] = 0\n",
    "gfu.components[0].Set(exp(-100*((x-0.4)**2+(y-0.4)**2)))"
   ]
  },
  {
   "cell_type": "code",
   "execution_count": 11,
   "id": "a7d97bca",
   "metadata": {},
   "outputs": [
    {
     "data": {
      "application/vnd.jupyter.widget-view+json": {
       "model_id": "1bc6e25e287c4bafa7d2a50ed0d50b0d",
       "version_major": 2,
       "version_minor": 0
      },
      "text/plain": [
       "WebGuiWidget(value={'gui_settings': {}, 'ngsolve_version': '6.2.2403', 'mesh_dim': 2, 'order2d': 2, 'order3d':…"
      ]
     },
     "metadata": {},
     "output_type": "display_data"
    }
   ],
   "source": [
    "scene = Draw(gfu.components[0],autoscale=False,min=0,max=0.5)"
   ]
  },
  {
   "cell_type": "code",
   "execution_count": 12,
   "id": "2a8ace09",
   "metadata": {},
   "outputs": [
    {
     "name": "stdout",
     "output_type": "stream",
     "text": [
      "t = 1.129999999999986376\r"
     ]
    },
    {
     "ename": "KeyboardInterrupt",
     "evalue": "",
     "output_type": "error",
     "traceback": [
      "\u001b[0;31m---------------------------------------------------------------------------\u001b[0m",
      "\u001b[0;31mKeyboardInterrupt\u001b[0m                         Traceback (most recent call last)",
      "Input \u001b[0;32mIn [12]\u001b[0m, in \u001b[0;36m<cell line: 13>\u001b[0;34m()\u001b[0m\n\u001b[1;32m     26\u001b[0m i \u001b[38;5;241m+\u001b[39m\u001b[38;5;241m=\u001b[39m \u001b[38;5;241m1\u001b[39m\n\u001b[1;32m     27\u001b[0m \u001b[38;5;28;01mif\u001b[39;00m i\u001b[38;5;241m%\u001b[39m\u001b[38;5;241m10\u001b[39m \u001b[38;5;241m==\u001b[39m \u001b[38;5;241m0\u001b[39m:\n\u001b[0;32m---> 28\u001b[0m     \u001b[38;5;28mprint\u001b[39m(\u001b[38;5;124;43m\"\u001b[39;49m\u001b[38;5;124;43mt = \u001b[39;49m\u001b[38;5;132;43;01m{}\u001b[39;49;00m\u001b[38;5;124;43m\"\u001b[39;49m\u001b[38;5;241;43m.\u001b[39;49m\u001b[43mformat\u001b[49m\u001b[43m(\u001b[49m\u001b[43mt\u001b[49m\u001b[43m)\u001b[49m,end \u001b[38;5;241m=\u001b[39m \u001b[38;5;124m'\u001b[39m\u001b[38;5;130;01m\\r\u001b[39;00m\u001b[38;5;124m'\u001b[39m)\n\u001b[1;32m     29\u001b[0m     scene\u001b[38;5;241m.\u001b[39mRedraw()\n",
      "\u001b[0;31mKeyboardInterrupt\u001b[0m: "
     ]
    }
   ],
   "source": [
    "tmp = gfu.vec.CreateVector()\n",
    "\n",
    "tau = 0.001\n",
    "alpha = 5\n",
    "\n",
    "\n",
    "tend = 2\n",
    "\n",
    "\n",
    "t = 0\n",
    "i = 0\n",
    "\n",
    "while t < tend:\n",
    "    tmp.data = -fullB.T * gfu.vec\n",
    "    tmp.data -= alpha * dampingp * gfu.vec\n",
    "\n",
    "    gfu.vec.data += tau * invp * tmp\n",
    "    \n",
    "    \n",
    "    tmp.data = fullB * gfu.vec\n",
    "    tmp.data -= alpha * dampingv * gfu.vec\n",
    "\n",
    "    gfu.vec.data += tau * invv * tmp\n",
    "\n",
    "    t += tau\n",
    "    i += 1\n",
    "    if i%10 == 0:\n",
    "        #print(\"t = {}\".format(t),end = '\\r')\n",
    "        scene.Redraw()"
   ]
  },
  {
   "cell_type": "code",
   "execution_count": null,
   "id": "48b4bbbd",
   "metadata": {},
   "outputs": [],
   "source": []
  },
  {
   "cell_type": "code",
   "execution_count": null,
   "id": "b033f77c",
   "metadata": {},
   "outputs": [],
   "source": []
  },
  {
   "cell_type": "code",
   "execution_count": null,
   "id": "5895b628",
   "metadata": {},
   "outputs": [],
   "source": []
  }
 ],
 "metadata": {
  "kernelspec": {
   "display_name": "Python 3 (ipykernel)",
   "language": "python",
   "name": "python3"
  },
  "language_info": {
   "codemirror_mode": {
    "name": "ipython",
    "version": 3
   },
   "file_extension": ".py",
   "mimetype": "text/x-python",
   "name": "python",
   "nbconvert_exporter": "python",
   "pygments_lexer": "ipython3",
   "version": "3.10.12"
  }
 },
 "nbformat": 4,
 "nbformat_minor": 5
}
