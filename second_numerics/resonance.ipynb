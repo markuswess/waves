{
 "cells": [
  {
   "cell_type": "code",
   "execution_count": 1,
   "id": "b91f2d41",
   "metadata": {},
   "outputs": [],
   "source": [
    "from ngsolve import *\n",
    "from ngsolve.webgui import Draw\n",
    "from netgen.occ import *\n",
    "\n",
    "geo = OCCGeometry(unit_square.shape, dim = 2) \n",
    "mesh = Mesh(geo.GenerateMesh(maxh = 0.1))\n",
    "\n",
    "V = H1(mesh,order = 3)\n",
    "\n",
    "u,v = V.TnT()\n",
    "S = BilinearForm(grad(u)*grad(v)*dx).Assemble()\n",
    "M = BilinearForm(u*v*dx).Assemble()"
   ]
  },
  {
   "cell_type": "code",
   "execution_count": 2,
   "id": "d3b7cfc3",
   "metadata": {},
   "outputs": [
    {
     "name": "stdout",
     "output_type": "stream",
     "text": [
      "[2.73806729e-13 1.00000000e+00 1.00000001e+00 2.00000011e+00\n",
      " 4.00000108e+00 4.00000181e+00 5.00000320e+00 5.00000413e+00\n",
      " 8.00002568e+00 9.00002871e+00]\n"
     ]
    }
   ],
   "source": [
    "import scipy as sp\n",
    "lam,vecs = sp.linalg.eigh(S.mat.ToDense(),M.mat.ToDense())\n",
    "print(lam[:10]/sp.pi**2)\n"
   ]
  },
  {
   "cell_type": "code",
   "execution_count": 3,
   "id": "e91219a8",
   "metadata": {},
   "outputs": [
    {
     "data": {
      "application/vnd.jupyter.widget-view+json": {
       "model_id": "ffed83c4b46f4803b3112df68b190c92",
       "version_major": 2,
       "version_minor": 0
      },
      "text/plain": [
       "WebGuiWidget(value={'gui_settings': {}, 'ngsolve_version': '6.2.2401-4-g6fc35016a', 'mesh_dim': 2, 'order2d': …"
      ]
     },
     "metadata": {},
     "output_type": "display_data"
    },
    {
     "data": {
      "text/plain": [
       "BaseWebGuiScene"
      ]
     },
     "execution_count": 3,
     "metadata": {},
     "output_type": "execute_result"
    }
   ],
   "source": [
    "gfu = GridFunction(V)\n",
    "gfu.vec[:] = vecs[:,3]\n",
    "Draw(gfu)"
   ]
  },
  {
   "cell_type": "code",
   "execution_count": 25,
   "id": "e8b1fceb",
   "metadata": {},
   "outputs": [],
   "source": [
    "#Dirichlet BCs\n",
    "\n",
    "from ngsolve import *\n",
    "from ngsolve.webgui import Draw\n",
    "from netgen.occ import *\n",
    "\n",
    "geo = OCCGeometry(unit_square.shape, dim = 2) \n",
    "mesh = Mesh(geo.GenerateMesh(maxh = 0.1))\n",
    "\n",
    "V = H1(mesh, order = 3, dirichlet = \"top|bottom|left|right\")\n",
    "\n",
    "u,v = V.TnT()\n",
    "S = BilinearForm(grad(u)*grad(v)*dx).Assemble()\n",
    "M = BilinearForm(u*v*dx).Assemble()"
   ]
  },
  {
   "cell_type": "code",
   "execution_count": 36,
   "id": "5ee1cc10",
   "metadata": {},
   "outputs": [
    {
     "name": "stdout",
     "output_type": "stream",
     "text": [
      "(958, 958)\n"
     ]
    }
   ],
   "source": [
    "Sfree=S.mat.ToDense().NumPy()[V.FreeDofs()].T[V.FreeDofs()]\n",
    "Mfree=M.mat.ToDense().NumPy()[V.FreeDofs()].T[V.FreeDofs()]\n",
    "print(Sfree.shape)"
   ]
  },
  {
   "cell_type": "code",
   "execution_count": 38,
   "id": "b6a2e0fc",
   "metadata": {},
   "outputs": [
    {
     "name": "stdout",
     "output_type": "stream",
     "text": [
      "[ 2.00000011  5.00000324  5.00000428  8.00002642 10.0000479  10.00007003\n",
      " 13.00014882 13.00018721 17.00038023 17.00055584]\n",
      "(958, 958)\n"
     ]
    }
   ],
   "source": [
    "import scipy as sp\n",
    "import numpy as np\n",
    "\n",
    "lam,vecs = sp.linalg.eigh(Sfree,Mfree)\n",
    "print(lam[:10]/sp.pi**2)\n",
    "print(vecs.shape)"
   ]
  },
  {
   "cell_type": "code",
   "execution_count": 40,
   "id": "a57749d2",
   "metadata": {},
   "outputs": [
    {
     "data": {
      "application/vnd.jupyter.widget-view+json": {
       "model_id": "6569915b6cba447b933d7002c92a9cb7",
       "version_major": 2,
       "version_minor": 0
      },
      "text/plain": [
       "WebGuiWidget(value={'gui_settings': {}, 'ngsolve_version': '6.2.2401-4-g6fc35016a', 'mesh_dim': 2, 'order2d': …"
      ]
     },
     "metadata": {},
     "output_type": "display_data"
    },
    {
     "data": {
      "text/plain": [
       "BaseWebGuiScene"
      ]
     },
     "execution_count": 40,
     "metadata": {},
     "output_type": "execute_result"
    }
   ],
   "source": [
    "#plot eigenfunctions\n",
    "gfu = GridFunction(V)\n",
    "vec = np.zeros(V.ndof)\n",
    "vec[V.FreeDofs()] = vecs[:,1]\n",
    "gfu.vec[V.FreeDofs()] = vec\n",
    "Draw(gfu)"
   ]
  },
  {
   "cell_type": "code",
   "execution_count": null,
   "id": "d29a8f35",
   "metadata": {},
   "outputs": [],
   "source": []
  }
 ],
 "metadata": {
  "kernelspec": {
   "display_name": "Python 3 (ipykernel)",
   "language": "python",
   "name": "python3"
  },
  "language_info": {
   "codemirror_mode": {
    "name": "ipython",
    "version": 3
   },
   "file_extension": ".py",
   "mimetype": "text/x-python",
   "name": "python",
   "nbconvert_exporter": "python",
   "pygments_lexer": "ipython3",
   "version": "3.10.12"
  }
 },
 "nbformat": 4,
 "nbformat_minor": 5
}
