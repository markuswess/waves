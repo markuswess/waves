{
 "cells": [
  {
   "cell_type": "code",
   "execution_count": 1,
   "id": "3d202371",
   "metadata": {},
   "outputs": [
    {
     "data": {
      "application/vnd.jupyter.widget-view+json": {
       "model_id": "129ac85fd9524f7585caa51e0a9cf31b",
       "version_major": 2,
       "version_minor": 0
      },
      "text/plain": [
       "WebGuiWidget(value={'ngsolve_version': 'Netgen x.x', 'mesh_dim': 3, 'mesh_center': [1.1102230246251565e-16, 2.…"
      ]
     },
     "metadata": {},
     "output_type": "display_data"
    },
    {
     "name": "stdout",
     "output_type": "stream",
     "text": [
      "('outer', 'outer', 'outer', 'outer', 'inner', 'inner', 'inner', 'inner', 'inner', 'inner', 'inner', 'inner', 'inner', 'inner', 'inner', 'inner')\n"
     ]
    }
   ],
   "source": [
    "from ngsolve import *\n",
    "from ngsolve.webgui import Draw\n",
    "from netgen.occ import *\n",
    "\n",
    "d = 0.1\n",
    "\n",
    "\n",
    "bigrect = MoveTo(-1.5,-1.5).Rectangle(3,3).Face()\n",
    "rect = MoveTo(-1/2,-1/2).Rectangle(1,1).Face()\n",
    "smallrect = MoveTo(-1/2+d,-1/2+d).Rectangle(1-2*d,1-2*d).Face()\n",
    "hole = MoveTo(1/2-2*d,-d).Rectangle(3*d,2*d).Face()\n",
    "bigrect.edges.name = \"outer\"\n",
    "\n",
    "innerrect = rect-smallrect-hole\n",
    "innerrect.edges.name = \"inner\"\n",
    "\n",
    "shape = bigrect-innerrect\n",
    "\n",
    "Draw(shape)\n",
    "\n",
    "mesh = Mesh(OCCGeometry(shape,dim=2).GenerateMesh(maxh=0.1))\n",
    "print(mesh.GetBoundaries())"
   ]
  },
  {
   "cell_type": "code",
   "execution_count": null,
   "id": "6293a325",
   "metadata": {},
   "outputs": [],
   "source": []
  }
 ],
 "metadata": {
  "kernelspec": {
   "display_name": "Python 3 (ipykernel)",
   "language": "python",
   "name": "python3"
  },
  "language_info": {
   "codemirror_mode": {
    "name": "ipython",
    "version": 3
   },
   "file_extension": ".py",
   "mimetype": "text/x-python",
   "name": "python",
   "nbconvert_exporter": "python",
   "pygments_lexer": "ipython3",
   "version": "3.10.12"
  }
 },
 "nbformat": 4,
 "nbformat_minor": 5
}
